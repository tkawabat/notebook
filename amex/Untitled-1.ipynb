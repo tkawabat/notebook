{
 "cells": [
  {
   "cell_type": "code",
   "execution_count": 2,
   "metadata": {},
   "outputs": [],
   "source": [
    "import warnings\n",
    "warnings.filterwarnings('ignore')\n",
    "# import itertools\n",
    "\n",
    "import gc, os\n",
    "import random\n",
    "import scipy as sp\n",
    "import numpy as np\n",
    "import pandas as pd\n",
    "import joblib\n",
    "import itertools\n",
    "pd.set_option('display.max_rows', 500)\n",
    "pd.set_option('display.max_columns', 500)\n",
    "pd.set_option('display.width', 1000)\n",
    "from tqdm.auto import tqdm\n",
    "from sklearn.model_selection import StratifiedKFold, train_test_split\n",
    "from sklearn.preprocessing import LabelEncoder\n",
    "import lightgbm as lgb\n",
    "from itertools import combinations"
   ]
  },
  {
   "cell_type": "code",
   "execution_count": 4,
   "metadata": {},
   "outputs": [],
   "source": [
    "importance = pd.read_csv('./amex/work/xgb_feature_importance_v7.csv')"
   ]
  },
  {
   "cell_type": "code",
   "execution_count": 5,
   "metadata": {},
   "outputs": [
    {
     "data": {
      "text/plain": [
       "0                P_2_last\n",
       "1               D_39_last\n",
       "2                P_2_mean\n",
       "3      B_4_last_mean_diff\n",
       "4                 P_2_min\n",
       "5                B_5_last\n",
       "6                S_3_last\n",
       "7                B_3_last\n",
       "8               D_46_last\n",
       "9                R_1_last\n",
       "10               B_2_last\n",
       "11    D_39_last_mean_diff\n",
       "12               B_1_last\n",
       "13                P_2_max\n",
       "14               B_4_last\n",
       "15               D_39_max\n",
       "16    D_48_last_mean_diff\n",
       "17              D_47_last\n",
       "18              B_11_last\n",
       "19                B_4_std\n",
       "Name: feature, dtype: object"
      ]
     },
     "execution_count": 5,
     "metadata": {},
     "output_type": "execute_result"
    }
   ],
   "source": [
    "importance.feature.head(20)"
   ]
  },
  {
   "cell_type": "code",
   "execution_count": 6,
   "metadata": {},
   "outputs": [
    {
     "data": {
      "text/plain": [
       "1084"
      ]
     },
     "execution_count": 6,
     "metadata": {},
     "output_type": "execute_result"
    }
   ],
   "source": [
    "importance.feature.count()"
   ]
  },
  {
   "cell_type": "code",
   "execution_count": 21,
   "metadata": {},
   "outputs": [
    {
     "name": "stdout",
     "output_type": "stream",
     "text": [
      "['B_19_last', 'R_2_std', 'D_106_last', 'R_15_last_mean_diff', 'R_14_std', 'D_72_std', 'D_110_mean', 'B_19_first', 'D_132_max', 'D_122_max', 'D_106_std', 'D_78_mean', 'D_141_first', 'R_22_last_mean_diff', 'B_39_mean', 'D_49_min', 'D_134_last_mean_diff', 'S_27_min', 'D_142_mean', 'D_141_last_mean_diff', 'S_6_mean', 'B_32_last_mean_diff', 'D_74_max', 'D_142_min', 'S_18_std', 'D_131_std', 'D_53_first', 'D_104_min', 'D_125_mean', 'S_6_std', 'D_131_last_mean_diff', 'R_12_min', 'D_142_std', 'D_138_std', 'D_74_min', 'B_17_min', 'D_54_first', 'D_129_std', 'D_112_max', 'B_41_mean', 'D_63_last', 'D_79_last', 'S_20_mean', 'R_26_last', 'S_18_mean', 'D_51_last', 'D_80_last', 'D_142_last', 'D_124_min', 'D_53_min', 'D_96_std', 'R_24_last_mean_diff', 'D_141_min', 'D_81_std', 'D_79_mean', 'D_110_std', 'D_111_mean', 'D_86_last_mean_diff', 'D_96_mean', 'D_75_last', 'D_108_mean', 'D_136_std', 'D_105_last', 'R_4_last', 'B_41_std', 'B_19_min', 'D_49_mean', 'D_39_min', 'D_41_first', 'D_88_mean', 'B_22_last', 'D_44_min', 'D_123_mean', 'R_26_std', 'D_123_max', 'D_80_max', 'P_4_min', 'B_30_nunique', 'D_75_max', 'R_4_mean', 'D_74_last', 'R_15_std', 'D_106_mean', 'R_20_mean', 'B_38_nunique', 'D_63_nunique', 'D_82_last', 'D_122_min', 'R_20_last_mean_diff', 'D_92_first', 'D_108_last_mean_diff', 'R_14_max', 'D_142_first', 'D_89_last_mean_diff', 'B_38_last', 'D_145_std', 'D_139_last_mean_diff', 'D_76_min', 'D_75_min', 'D_142_last_mean_diff', 'D_131_max', 'D_66_nunique', 'D_132_first', 'D_131_first', 'D_139_mean', 'D_82_std', 'D_145_first', 'R_3_min', 'R_8_mean', 'D_113_last', 'D_72_first', 'R_5_std', 'D_81_mean', 'D_110_last', 'R_5_mean', 'R_12_first', 'D_106_max', 'D_108_std', 'D_84_mean', 'B_16_max', 'B_33_mean', 'R_19_std', 'D_122_first', 'R_16_first', 'R_8_last', 'D_141_mean', 'D_82_mean', 'R_9_max', 'D_78_first', 'R_7_max', 'D_106_min', 'D_81_last_mean_diff', 'R_12_max', 'R_7_std', 'D_73_first', 'D_136_last_mean_diff', 'R_9_std', 'D_139_std', 'D_78_last', 'R_21_last_mean_diff', 'R_24_mean', 'D_89_std', 'R_11_max', 'D_138_mean', 'D_72_last', 'D_131_last', 'R_5_min', 'R_26_first', 'D_81_max', 'D_83_last', 'R_21_std', 'D_132_min', 'D_103_last_mean_diff', 'D_127_mean', 'D_103_std', 'R_21_mean', 'D_83_max', 'B_32_last', 'D_135_mean', 'D_70_last', 'D_113_max', 'R_10_first', 'D_132_last', 'D_92_std', 'D_137_std', 'D_134_mean', 'D_54_max', 'D_137_mean', 'R_2_mean', 'R_12_last_mean_diff', 'R_13_last_mean_diff', 'R_13_std', 'R_9_last', 'R_20_std', 'R_26_max', 'D_125_std', 'S_13_min', 'D_143_mean', 'R_5_max', 'D_131_mean', 'D_86_mean', 'D_113_min', 'D_107_last', 'D_106_first', 'D_134_last', 'R_18_std', 'D_94_mean', 'D_145_max', 'D_70_first', 'D_80_first', 'B_39_last', 'D_51_min', 'D_70_min', 'R_28_last_mean_diff', 'D_103_mean', 'D_86_last', 'R_26_min', 'D_145_last', 'D_127_last', 'D_76_mean', 'B_39_last_mean_diff', 'R_7_mean', 'D_91_last', 'S_6_last', 'D_117_nunique', 'R_24_std', 'P_4_last', 'D_113_first', 'D_131_min', 'D_88_last_mean_diff', 'D_54_std', 'B_16_min', 'D_84_last', 'D_72_max', 'D_76_first', 'D_129_last', 'B_16_last', 'D_111_last_mean_diff', 'S_20_std', 'D_78_max', 'B_31_last', 'B_39_max', 'D_51_max', 'B_20_min', 'D_127_std', 'D_92_mean', 'R_22_mean', 'D_89_mean', 'D_93_last_mean_diff', 'D_132_mean', 'D_79_max', 'D_125_first', 'B_30_count', 'R_14_mean', 'D_73_min', 'R_11_first', 'D_134_min', 'D_51_first', 'D_81_last', 'B_32_min', 'B_20_first', 'D_68_nunique', 'B_22_max', 'D_143_last_mean_diff', 'D_129_min', 'R_25_std', 'D_125_max', 'R_16_last', 'R_25_last_mean_diff', 'D_93_mean', 'D_94_last_mean_diff', 'D_79_first', 'D_81_first', 'D_84_max', 'D_68_last', 'D_116_nunique', 'R_22_std', 'B_20_max', 'R_13_max', 'R_15_max', 'B_42_min', 'D_111_std', 'D_107_max', 'D_108_max', 'D_41_min', 'R_4_std', 'D_73_last', 'D_111_max', 'D_84_first', 'D_143_std', 'R_12_std', 'R_10_max', 'D_73_mean', 'D_83_first', 'D_138_max', 'D_88_max', 'R_17_first', 'D_134_first', 'D_110_first', 'R_16_max', 'R_13_last', 'B_41_max', 'D_91_first', 'R_17_std', 'D_107_min', 'R_8_max', 'D_82_max', 'D_110_last_mean_diff', 'R_10_last', 'R_17_last_mean_diff', 'D_84_min', 'D_109_std', 'D_96_max', 'B_39_std', 'R_21_first', 'D_83_min', 'B_22_first', 'R_13_mean', 'B_42_last_mean_diff', 'R_5_first', 'R_11_min', 'R_18_max', 'D_92_last', 'R_17_mean', 'D_107_first', 'R_15_last', 'D_86_max', 'D_72_min', 'D_125_last', 'D_138_last', 'D_114_nunique', 'B_41_first', 'B_42_first', 'B_30_last', 'B_32_std', 'D_88_last', 'D_140_min', 'D_110_min', 'R_2_first', 'D_129_first', 'D_140_max', 'D_127_max', 'D_87_last', 'S_6_min', 'S_6_first', 'D_94_std', 'D_73_max', 'D_93_max', 'B_33_first', 'B_33_last', 'S_20_first', 'R_4_first', 'R_19_first', 'S_18_first', 'D_82_min', 'D_78_min', 'D_87_nunique']\n"
     ]
    }
   ],
   "source": [
    "pd.set_option('display.max_columns', 500)\n",
    "print(importance[importance.importance < 10].feature.values.tolist())"
   ]
  }
 ],
 "metadata": {
  "kernelspec": {
   "display_name": "Python 3.10.6 64-bit ('amex')",
   "language": "python",
   "name": "python3"
  },
  "language_info": {
   "codemirror_mode": {
    "name": "ipython",
    "version": 3
   },
   "file_extension": ".py",
   "mimetype": "text/x-python",
   "name": "python",
   "nbconvert_exporter": "python",
   "pygments_lexer": "ipython3",
   "version": "3.10.6"
  },
  "orig_nbformat": 4,
  "vscode": {
   "interpreter": {
    "hash": "59ed42f60c23565e134b24c7847f2d708e2b3bb3b666a349ae1d72ca611aaa1b"
   }
  }
 },
 "nbformat": 4,
 "nbformat_minor": 2
}
