{
 "metadata": {
  "language_info": {
   "codemirror_mode": {
    "name": "ipython",
    "version": 3
   },
   "file_extension": ".py",
   "mimetype": "text/x-python",
   "name": "python",
   "nbconvert_exporter": "python",
   "pygments_lexer": "ipython3",
   "version": "3.8.5-final"
  },
  "orig_nbformat": 2,
  "kernelspec": {
   "name": "python3",
   "display_name": "Python 3.8.5 64-bit ('flywheel')",
   "metadata": {
    "interpreter": {
     "hash": "ddf91c9a6b9164a5c56a5c7bade55434dc35884a79de7be7d1e9bc3b137ab8f0"
    }
   }
  }
 },
 "nbformat": 4,
 "nbformat_minor": 2,
 "cells": [
  {
   "cell_type": "code",
   "execution_count": 40,
   "metadata": {},
   "outputs": [],
   "source": [
    "import re\n",
    "import time\n",
    "from tqdm import tqdm_notebook as tqdm\n",
    "import requests\n",
    "from bs4 import BeautifulSoup"
   ]
  },
  {
   "cell_type": "code",
   "execution_count": 3,
   "metadata": {},
   "outputs": [],
   "source": [
    "### GETリクエスト\n",
    "def getRequest(url):\n",
    "    time.sleep(1)\n",
    "    return requests.get(url)"
   ]
  },
  {
   "cell_type": "code",
   "execution_count": 42,
   "metadata": {},
   "outputs": [],
   "source": [
    "urlBase = 'https://www.flywheel.jp/blog/page/'\n",
    "pageNum = 7"
   ]
  },
  {
   "cell_type": "code",
   "execution_count": 46,
   "metadata": {},
   "outputs": [
    {
     "output_type": "display_data",
     "data": {
      "text/plain": "  0%|          | 0/7 [00:00<?, ?it/s]",
      "application/vnd.jupyter.widget-view+json": {
       "version_major": 2,
       "version_minor": 0,
       "model_id": "f6f97a07791942528038df16481fb4bc"
      }
     },
     "metadata": {}
    }
   ],
   "source": [
    "### blogの一覧からURL取得\n",
    "blogUrls = []\n",
    "for i in tqdm(range(pageNum)):\n",
    "    url = urlBase + str(i+1) + '/'\n",
    "    response = getRequest(url)\n",
    "    soup = BeautifulSoup(response.text, 'html.parser')\n",
    "    aTags = soup.select('li.blog-item a')\n",
    "    blogUrls += [aTag['href'] for aTag in aTags]\n"
   ]
  },
  {
   "cell_type": "code",
   "execution_count": 47,
   "metadata": {},
   "outputs": [
    {
     "output_type": "display_data",
     "data": {
      "text/plain": "  0%|          | 0/68 [00:00<?, ?it/s]",
      "application/vnd.jupyter.widget-view+json": {
       "version_major": 2,
       "version_minor": 0,
       "model_id": "e3076c9270c344f4b267a648b51b7811"
      }
     },
     "metadata": {}
    }
   ],
   "source": [
    "i = 1\n",
    "for url in tqdm(blogUrls):\n",
    "    saveFileName = 'work/'+str(i)+'.html'\n",
    "    response = getRequest(url)\n",
    "    with open(saveFileName, 'wb') as saveFile:\n",
    "        saveFile.write(response.content)\n",
    "    i+=1"
   ]
  },
  {
   "cell_type": "code",
   "execution_count": 33,
   "metadata": {},
   "outputs": [],
   "source": []
  },
  {
   "cell_type": "code",
   "execution_count": 37,
   "metadata": {},
   "outputs": [],
   "source": [
    "\n"
   ]
  },
  {
   "cell_type": "code",
   "execution_count": 28,
   "metadata": {},
   "outputs": [],
   "source": []
  }
 ]
}