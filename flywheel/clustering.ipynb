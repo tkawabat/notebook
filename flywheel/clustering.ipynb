{
 "metadata": {
  "language_info": {
   "codemirror_mode": {
    "name": "ipython",
    "version": 3
   },
   "file_extension": ".py",
   "mimetype": "text/x-python",
   "name": "python",
   "nbconvert_exporter": "python",
   "pygments_lexer": "ipython3",
   "version": "3.8.5-final"
  },
  "orig_nbformat": 2,
  "kernelspec": {
   "name": "python3",
   "display_name": "Python 3.8.5 64-bit ('flywheel')",
   "metadata": {
    "interpreter": {
     "hash": "ddf91c9a6b9164a5c56a5c7bade55434dc35884a79de7be7d1e9bc3b137ab8f0"
    }
   }
  }
 },
 "nbformat": 4,
 "nbformat_minor": 2,
 "cells": [
  {
   "cell_type": "code",
   "execution_count": 12,
   "metadata": {},
   "outputs": [],
   "source": [
    "import warnings\n",
    "warnings.filterwarnings(\"ignore\", category=DeprecationWarning)\n",
    "\n",
    "from tqdm import tqdm_notebook as tqdm\n",
    "import re\n",
    "import math\n",
    "import numpy as np\n",
    "import pandas as pd\n",
    "import matplotlib\n",
    "matplotlib.use('Agg')\n",
    "import matplotlib.pyplot as plt\n",
    "plt.rcParams['font.family'] = 'IPAexGothic'\n",
    "\n",
    "from scipy.cluster.hierarchy import linkage, dendrogram\n",
    "\n",
    "from gensim.corpora.dictionary import Dictionary\n",
    "from gensim.models import LdaModel, CoherenceModel, TfidfModel\n",
    "\n",
    "import pyLDAvis\n",
    "import pyLDAvis.gensim\n",
    "pyLDAvis.enable_notebook()\n",
    "\n",
    "from wordcloud import WordCloud"
   ]
  },
  {
   "cell_type": "code",
   "execution_count": 2,
   "metadata": {},
   "outputs": [
    {
     "output_type": "stream",
     "name": "stderr",
     "text": [
      "/Users/tune/.pyenv/versions/flywheel/lib/python3.8/site-packages/ipykernel/ipkernel.py:283: DeprecationWarning: `should_run_async` will not call `transform_cell` automatically in the future. Please pass the result to `transformed_cell` argument and any exception that happen during thetransform in `preprocessing_exc_tuple` in IPython 7.17 and above.\n",
      "  and should_run_async(code)\n",
      "<ipython-input-2-3632754ed286>:19: TqdmDeprecationWarning: This function will be removed in tqdm==5.0.0\n",
      "Please use `tqdm.notebook.tqdm` instead of `tqdm.tqdm_notebook`\n",
      "  data = [parse(fileName) for fileName in tqdm(files)]\n"
     ]
    },
    {
     "output_type": "display_data",
     "data": {
      "text/plain": "  0%|          | 0/68 [00:00<?, ?it/s]",
      "application/vnd.jupyter.widget-view+json": {
       "version_major": 2,
       "version_minor": 0,
       "model_id": "62efa92068f34d3c9dca6e640198b04c"
      }
     },
     "metadata": {}
    }
   ],
   "source": [
    "import glob\n",
    "from bs4 import BeautifulSoup\n",
    "\n",
    "files = glob.glob('./work/raw/*html')\n",
    "\n",
    "def parse(fileName):\n",
    "    with open(fileName) as f:\n",
    "        soup = BeautifulSoup(f, 'html.parser')\n",
    "\n",
    "    title      = soup.select_one('article.blog-entry-article h1.blog-title').get_text()\n",
    "    date       = soup.select_one('article.blog-entry-article div.blog-date').get_text()\n",
    "    category   = soup.select_one('article.blog-entry-article li.blog-category').get_text()\n",
    "    text       = soup.select_one('article.blog-entry-article div.content').get_text()\n",
    "    \n",
    "    \n",
    "    return [fileName, title, date, category, text]\n",
    "\n",
    "\n",
    "data = [parse(fileName) for fileName in tqdm(files)]"
   ]
  },
  {
   "cell_type": "code",
   "execution_count": 3,
   "metadata": {},
   "outputs": [
    {
     "output_type": "stream",
     "name": "stderr",
     "text": [
      "/Users/tune/.pyenv/versions/flywheel/lib/python3.8/site-packages/ipykernel/ipkernel.py:283: DeprecationWarning: `should_run_async` will not call `transform_cell` automatically in the future. Please pass the result to `transformed_cell` argument and any exception that happen during thetransform in `preprocessing_exc_tuple` in IPython 7.17 and above.\n  and should_run_async(code)\n"
     ]
    },
    {
     "output_type": "execute_result",
     "data": {
      "text/plain": [
       "                 file                                   title        date  \\\n",
       "0  ./work/raw/23.html             ソフトウェアエンジニアの採用にルーブリックを導入した話  2019.12.22   \n",
       "1  ./work/raw/35.html  Kubernetes + Fluentd + CloudWatch Logs   2019.12.8   \n",
       "2  ./work/raw/62.html          event timeとprocessing timeについて   2018.12.4   \n",
       "3   ./work/raw/9.html                  フライウィール・データプラットフォームの紹介   2020.8.27   \n",
       "4  ./work/raw/19.html        渋谷オフィスへの引越し前に認証を引っ越した話 Part2-実践編  2019.12.25   \n",
       "\n",
       "    category                                               text  \n",
       "0       TECH  \\n\\n\\nソフトウェアエンジニアの hota です。今回はソフトウェアエンジニアの採用につ...  \n",
       "1       TECH  ソフトウェアエンジニアのskirinoです。\\n最近ではコンテナ化したアプリケーションの設定...  \n",
       "2       TECH  \\nこんにちは。ソフトウェアエンジニアの田中伸弥です。\\n\\n\\n時系列データのevent ...  \n",
       "3  MARKETING  プロダクトマネージャーの横井啓介です。\\n前回の投稿では、デジタルトランスフォーメーション戦...  \n",
       "4       TECH  こんにちは。FLYWHEELでソフトウェアエンジニアをしてますsaoiです。前回の投稿の投稿...  "
      ],
      "text/html": "<div>\n<style scoped>\n    .dataframe tbody tr th:only-of-type {\n        vertical-align: middle;\n    }\n\n    .dataframe tbody tr th {\n        vertical-align: top;\n    }\n\n    .dataframe thead th {\n        text-align: right;\n    }\n</style>\n<table border=\"1\" class=\"dataframe\">\n  <thead>\n    <tr style=\"text-align: right;\">\n      <th></th>\n      <th>file</th>\n      <th>title</th>\n      <th>date</th>\n      <th>category</th>\n      <th>text</th>\n    </tr>\n  </thead>\n  <tbody>\n    <tr>\n      <th>0</th>\n      <td>./work/raw/23.html</td>\n      <td>ソフトウェアエンジニアの採用にルーブリックを導入した話</td>\n      <td>2019.12.22</td>\n      <td>TECH</td>\n      <td>\\n\\n\\nソフトウェアエンジニアの hota です。今回はソフトウェアエンジニアの採用につ...</td>\n    </tr>\n    <tr>\n      <th>1</th>\n      <td>./work/raw/35.html</td>\n      <td>Kubernetes + Fluentd + CloudWatch Logs</td>\n      <td>2019.12.8</td>\n      <td>TECH</td>\n      <td>ソフトウェアエンジニアのskirinoです。\\n最近ではコンテナ化したアプリケーションの設定...</td>\n    </tr>\n    <tr>\n      <th>2</th>\n      <td>./work/raw/62.html</td>\n      <td>event timeとprocessing timeについて</td>\n      <td>2018.12.4</td>\n      <td>TECH</td>\n      <td>\\nこんにちは。ソフトウェアエンジニアの田中伸弥です。\\n\\n\\n時系列データのevent ...</td>\n    </tr>\n    <tr>\n      <th>3</th>\n      <td>./work/raw/9.html</td>\n      <td>フライウィール・データプラットフォームの紹介</td>\n      <td>2020.8.27</td>\n      <td>MARKETING</td>\n      <td>プロダクトマネージャーの横井啓介です。\\n前回の投稿では、デジタルトランスフォーメーション戦...</td>\n    </tr>\n    <tr>\n      <th>4</th>\n      <td>./work/raw/19.html</td>\n      <td>渋谷オフィスへの引越し前に認証を引っ越した話 Part2-実践編</td>\n      <td>2019.12.25</td>\n      <td>TECH</td>\n      <td>こんにちは。FLYWHEELでソフトウェアエンジニアをしてますsaoiです。前回の投稿の投稿...</td>\n    </tr>\n  </tbody>\n</table>\n</div>"
     },
     "metadata": {},
     "execution_count": 3
    }
   ],
   "source": [
    "df = pd.DataFrame(data, columns=['file', 'title', 'date', 'category', 'text'])\n",
    "df.head()"
   ]
  },
  {
   "cell_type": "code",
   "execution_count": 29,
   "metadata": {},
   "outputs": [],
   "source": [
    "## 前処理\n",
    "import MeCab\n",
    "m = MeCab.Tagger('-d /usr/local/lib/mecab/dic/ipadic')\n",
    "\n",
    "HINSHI = ['名詞']\n",
    "STOPWORDS = ['フライウィール', 'flywheel', 'var', 'main', 'test', 'time', 'src', 'com', 'jp', 'れる', 'これ', 'なっ', 'それ', 'もの', 'たち', 'さん']\n",
    "\n",
    "def parseText(text):\n",
    "    node = m.parseToNode(text)\n",
    "    words = []\n",
    "    while node:\n",
    "        fields = node.feature.split(\",\")\n",
    "        word = node.surface.lower() # 小文字化\n",
    "        word = re.sub(r'\\d+', '0', word) # 数字置き換え        \n",
    "        word = re.sub(r'[\\.\\/\\(\\){}\\[\\]:,?!;\\*=_\\-\\'\"@<>#\\^%]+', '', word) # 記号除去\n",
    "        if fields[0] in HINSHI and word not in STOPWORDS and len(word) > 1:\n",
    "            words.append(word)\n",
    "        node = node.next\n",
    "    \n",
    "    return words"
   ]
  },
  {
   "cell_type": "code",
   "execution_count": 30,
   "metadata": {},
   "outputs": [
    {
     "output_type": "execute_result",
     "data": {
      "text/plain": [
       "0    [ソフトウェア, エンジニア, hota, 今回, ソフトウェア, エンジニア, 採用, お...\n",
       "1    [ソフトウェア, エンジニア, skirino, 最近, コンテナ, アプリケーション, 設...\n",
       "2    [ソフトウェア, エンジニア, 田中, 系列, データ, event, processing...\n",
       "3    [プロダクト, マネージャー, 横井, 啓介, 前回, 投稿, デジタルトランスフォーメーシ...\n",
       "4    [ソフトウェア, エンジニア, saoi, 前回, 投稿, 投稿, 広告, 配信, プラット...\n",
       "Name: words, dtype: object"
      ]
     },
     "metadata": {},
     "execution_count": 30
    }
   ],
   "source": [
    "df['words'] = df['text'].map(lambda text: parseText(text))\n",
    "# df['words'] = df['title'].map(lambda text: parseText(text))\n",
    "df['words'].head()"
   ]
  },
  {
   "cell_type": "code",
   "execution_count": 31,
   "metadata": {},
   "outputs": [
    {
     "output_type": "stream",
     "name": "stdout",
     "text": [
      "1388\n"
     ]
    }
   ],
   "source": [
    "## 辞書とコーパスの作成\n",
    "dictionary = Dictionary(df['words'])\n",
    "dictionary.filter_extremes(no_below=3, no_above=0.7)\n",
    "print(len(dictionary))\n",
    "\n",
    "# BoWコーパス\n",
    "corpus = [dictionary.doc2bow(words) for words in df['words']]\n",
    "\n",
    "# tfidfコーパス\n",
    "tfidf = TfidfModel(corpus)\n",
    "corpus = tfidf[corpus]"
   ]
  },
  {
   "cell_type": "code",
   "execution_count": 32,
   "metadata": {},
   "outputs": [
    {
     "output_type": "display_data",
     "data": {
      "text/plain": "  0%|          | 0/8 [00:00<?, ?it/s]",
      "application/vnd.jupyter.widget-view+json": {
       "version_major": 2,
       "version_minor": 0,
       "model_id": "518e75700ef14de4800c4c01b2f607f0"
      }
     },
     "metadata": {}
    }
   ],
   "source": [
    "## トピック数の探索\n",
    "start = 2\n",
    "limit = 10\n",
    "step = 1\n",
    "\n",
    "coherence_vals = []\n",
    "perplexity_vals = []\n",
    "\n",
    "for n_topic in tqdm(range(start, limit, step)):\n",
    "    lda_model = LdaModel(corpus=corpus, id2word=dictionary, num_topics=n_topic, random_state=0)\n",
    "    perplexity_vals.append(np.exp2(-lda_model.log_perplexity(corpus)))\n",
    "    coherence_model_lda = CoherenceModel(model=lda_model, texts=df['words'], dictionary=dictionary, coherence='c_v')\n",
    "    coherence_vals.append(coherence_model_lda.get_coherence())"
   ]
  },
  {
   "cell_type": "code",
   "execution_count": 33,
   "metadata": {},
   "outputs": [],
   "source": [
    "# evaluation\n",
    "x = range(start, limit, step)\n",
    "\n",
    "fig, ax1 = plt.subplots(figsize=(12,5))\n",
    "\n",
    "# coherence\n",
    "c1 = 'darkturquoise'\n",
    "ax1.plot(x, coherence_vals, 'o-', color=c1)\n",
    "ax1.set_xlabel('Num Topics')\n",
    "ax1.set_ylabel('Coherence', color=c1); ax1.tick_params('y', colors=c1)\n",
    "\n",
    "# perplexity\n",
    "c2 = 'slategray'\n",
    "ax2 = ax1.twinx()\n",
    "ax2.plot(x, perplexity_vals, 'o-', color=c2)\n",
    "ax2.set_ylabel('Perplexity', color=c2); ax2.tick_params('y', colors=c2)\n",
    "\n",
    "# Vis\n",
    "ax1.set_xticks(x)\n",
    "fig.tight_layout()\n",
    "plt.show()\n",
    "plt.savefig('work/metrics.png')\n"
   ]
  },
  {
   "cell_type": "code",
   "execution_count": 52,
   "metadata": {},
   "outputs": [],
   "source": [
    "NUM_TOPICS = 4\n",
    "lda_model = LdaModel(corpus=corpus, id2word=dictionary, num_topics=NUM_TOPICS, random_state=0)\n",
    "lda_model.save('work/lda.model')"
   ]
  },
  {
   "cell_type": "code",
   "execution_count": 53,
   "metadata": {},
   "outputs": [
    {
     "output_type": "stream",
     "name": "stdout",
     "text": [
      "TOPIC: 0 __ 0.003*\"event\" + 0.003*\"インターン\" + 0.002*\"processing\" + 0.002*\"ログ\" + 0.002*\"task\" + 0.002*\"クリック\" + 0.002*\"絵文字\" + 0.002*\"リポジトリ\" + 0.002*\"回転\" + 0.002*\"user\"\nTOPIC: 1 __ 0.003*\"java\" + 0.003*\"bazel\" + 0.002*\"info\" + 0.002*\"アイデア\" + 0.002*\"お客様\" + 0.002*\"失敗\" + 0.002*\"ログ\" + 0.002*\"面接\" + 0.002*\"ユーザー\" + 0.002*\"cloud\"\nTOPIC: 2 __ 0.003*\"入札\" + 0.002*\"インターン\" + 0.002*\"広告\" + 0.002*\"dsp\" + 0.002*\"テスト\" + 0.002*\"商品\" + 0.002*\"パーソナライゼーション\" + 0.002*\"技術\" + 0.002*\"file\" + 0.002*\"企業\"\nTOPIC: 3 __ 0.002*\"回転\" + 0.002*\"auth\" + 0.002*\"施策\" + 0.002*\"企業\" + 0.002*\"組織\" + 0.002*\"dx\" + 0.002*\"emoji\" + 0.002*\"ログ\" + 0.002*\"認証\" + 0.002*\"移行\"\n"
     ]
    }
   ],
   "source": [
    "for i in range(lda_model.num_topics):\n",
    "        print('TOPIC:', i, '__', lda_model.print_topic(i))"
   ]
  },
  {
   "cell_type": "code",
   "execution_count": 54,
   "metadata": {},
   "outputs": [],
   "source": [
    "# WordCloud\n",
    "# 日本語フォントをダウンロードしてwork以下に設置\n",
    "fig, axs = plt.subplots(ncols=2, nrows=math.ceil(lda_model.num_topics/2), figsize=(16,20))\n",
    "axs = axs.flatten()\n",
    "\n",
    "def color_func(word, font_size, position, orientation, random_state, font_path):\n",
    "    return 'darkturquoise'\n",
    "\n",
    "for i, t in enumerate(range(lda_model.num_topics)):\n",
    "\n",
    "    x = dict(lda_model.show_topic(t, 30))\n",
    "    im = WordCloud(\n",
    "        background_color='black',\n",
    "        color_func=color_func,\n",
    "        max_words=4000,\n",
    "        width=300, height=300,\n",
    "        random_state=0,\n",
    "        font_path='./work/ipaexg.ttf'\n",
    "    ).generate_from_frequencies(x)\n",
    "    axs[i].imshow(im.recolor(colormap= 'Paired_r' , random_state=244), alpha=0.98)\n",
    "    axs[i].axis('off')\n",
    "    axs[i].set_title('Topic '+str(t))\n",
    "\n",
    "# vis\n",
    "plt.tight_layout()\n",
    "plt.show()\n",
    "\n",
    "# save as png\n",
    "plt.savefig('work/wordcloud.png') "
   ]
  },
  {
   "cell_type": "code",
   "execution_count": 55,
   "metadata": {},
   "outputs": [],
   "source": [
    "# Vis PCoA\n",
    "vis_pcoa = pyLDAvis.gensim.prepare(lda_model, corpus, dictionary, sort_topics=False)\n",
    "vis_pcoa\n",
    "\n",
    "# save as html\n",
    "pyLDAvis.save_html(vis_pcoa, 'work/pyldavis_output_pcoa.html')"
   ]
  },
  {
   "cell_type": "code",
   "execution_count": 124,
   "metadata": {
    "tags": []
   },
   "outputs": [
    {
     "output_type": "execute_result",
     "data": {
      "text/plain": [
       "                 file                                   title topics\n",
       "0  ./work/raw/23.html             ソフトウェアエンジニアの採用にルーブリックを導入した話      1\n",
       "1  ./work/raw/35.html  Kubernetes + Fluentd + CloudWatch Logs      0\n",
       "2  ./work/raw/62.html          event timeとprocessing timeについて      0\n",
       "3   ./work/raw/9.html                  フライウィール・データプラットフォームの紹介      1\n",
       "4  ./work/raw/19.html        渋谷オフィスへの引越し前に認証を引っ越した話 Part2-実践編      3"
      ],
      "text/html": "<div>\n<style scoped>\n    .dataframe tbody tr th:only-of-type {\n        vertical-align: middle;\n    }\n\n    .dataframe tbody tr th {\n        vertical-align: top;\n    }\n\n    .dataframe thead th {\n        text-align: right;\n    }\n</style>\n<table border=\"1\" class=\"dataframe\">\n  <thead>\n    <tr style=\"text-align: right;\">\n      <th></th>\n      <th>file</th>\n      <th>title</th>\n      <th>topics</th>\n    </tr>\n  </thead>\n  <tbody>\n    <tr>\n      <th>0</th>\n      <td>./work/raw/23.html</td>\n      <td>ソフトウェアエンジニアの採用にルーブリックを導入した話</td>\n      <td>1</td>\n    </tr>\n    <tr>\n      <th>1</th>\n      <td>./work/raw/35.html</td>\n      <td>Kubernetes + Fluentd + CloudWatch Logs</td>\n      <td>0</td>\n    </tr>\n    <tr>\n      <th>2</th>\n      <td>./work/raw/62.html</td>\n      <td>event timeとprocessing timeについて</td>\n      <td>0</td>\n    </tr>\n    <tr>\n      <th>3</th>\n      <td>./work/raw/9.html</td>\n      <td>フライウィール・データプラットフォームの紹介</td>\n      <td>1</td>\n    </tr>\n    <tr>\n      <th>4</th>\n      <td>./work/raw/19.html</td>\n      <td>渋谷オフィスへの引越し前に認証を引っ越した話 Part2-実践編</td>\n      <td>3</td>\n    </tr>\n  </tbody>\n</table>\n</div>"
     },
     "metadata": {},
     "execution_count": 124
    }
   ],
   "source": [
    "data = []\n",
    "for c, words, fileName, title in zip(corpus, df['words'], df['file'], df['title']):\n",
    "    topics = []\n",
    "    for topic, score in lda_model[c]:\n",
    "        if (score > 0.7):\n",
    "            topics.append(str(topic))\n",
    "    data.append([fileName, title, ','.join(topics)])\n",
    "    # for i in range(lda_model.num_topics):\n",
    "    #     print('{:.2f}'.format(topicScore[i]), end='\\t')\n",
    "    # print(title, fileName)\n",
    "\n",
    "df_topic = pd.DataFrame(data, columns=['file', 'title', 'topics'])\n",
    "df_topic.head()\n"
   ]
  },
  {
   "cell_type": "code",
   "execution_count": 135,
   "metadata": {},
   "outputs": [
    {
     "output_type": "execute_result",
     "data": {
      "text/plain": [
       "                  file                                       title topics\n",
       "0   ./work/raw/23.html                 ソフトウェアエンジニアの採用にルーブリックを導入した話      1\n",
       "3    ./work/raw/9.html                      フライウィール・データプラットフォームの紹介      1\n",
       "5   ./work/raw/58.html                           Spring WebFlux 入門      1\n",
       "6   ./work/raw/39.html                           ビルドツール「Bazel」について      1\n",
       "17  ./work/raw/18.html                              Postmortem 読書会      1\n",
       "20  ./work/raw/34.html                           クッキーの動作の変更とプライバシー      1\n",
       "21  ./work/raw/22.html                 Cloud IAP で作る手軽でセキュアな社内サービス      1\n",
       "25  ./work/raw/13.html                      「データ成熟度」を評価する具体的な手法とは？      1\n",
       "37  ./work/raw/45.html                有馬記念なので馬とCustom Visionで遊んでみた      1\n",
       "44   ./work/raw/1.html  フライウィールが提供するパーソナライズプラットフォーム「Conata (コナタ)™」      1\n",
       "45  ./work/raw/66.html                                      セッション化      1\n",
       "47  ./work/raw/27.html                ErrorProne Custom Plugin を書く      1\n",
       "52  ./work/raw/47.html                           デザインドックで学ぶデザインドック      1\n",
       "53  ./work/raw/51.html            Fail fast as a PM – PMは「速く失敗」しよう      1\n",
       "63  ./work/raw/41.html                  Brainwriting でブログアイデアを発掘する      1\n",
       "64  ./work/raw/57.html                            PySparkで日本語形態素解析      1"
      ],
      "text/html": "<div>\n<style scoped>\n    .dataframe tbody tr th:only-of-type {\n        vertical-align: middle;\n    }\n\n    .dataframe tbody tr th {\n        vertical-align: top;\n    }\n\n    .dataframe thead th {\n        text-align: right;\n    }\n</style>\n<table border=\"1\" class=\"dataframe\">\n  <thead>\n    <tr style=\"text-align: right;\">\n      <th></th>\n      <th>file</th>\n      <th>title</th>\n      <th>topics</th>\n    </tr>\n  </thead>\n  <tbody>\n    <tr>\n      <th>0</th>\n      <td>./work/raw/23.html</td>\n      <td>ソフトウェアエンジニアの採用にルーブリックを導入した話</td>\n      <td>1</td>\n    </tr>\n    <tr>\n      <th>3</th>\n      <td>./work/raw/9.html</td>\n      <td>フライウィール・データプラットフォームの紹介</td>\n      <td>1</td>\n    </tr>\n    <tr>\n      <th>5</th>\n      <td>./work/raw/58.html</td>\n      <td>Spring WebFlux 入門</td>\n      <td>1</td>\n    </tr>\n    <tr>\n      <th>6</th>\n      <td>./work/raw/39.html</td>\n      <td>ビルドツール「Bazel」について</td>\n      <td>1</td>\n    </tr>\n    <tr>\n      <th>17</th>\n      <td>./work/raw/18.html</td>\n      <td>Postmortem 読書会</td>\n      <td>1</td>\n    </tr>\n    <tr>\n      <th>20</th>\n      <td>./work/raw/34.html</td>\n      <td>クッキーの動作の変更とプライバシー</td>\n      <td>1</td>\n    </tr>\n    <tr>\n      <th>21</th>\n      <td>./work/raw/22.html</td>\n      <td>Cloud IAP で作る手軽でセキュアな社内サービス</td>\n      <td>1</td>\n    </tr>\n    <tr>\n      <th>25</th>\n      <td>./work/raw/13.html</td>\n      <td>「データ成熟度」を評価する具体的な手法とは？</td>\n      <td>1</td>\n    </tr>\n    <tr>\n      <th>37</th>\n      <td>./work/raw/45.html</td>\n      <td>有馬記念なので馬とCustom Visionで遊んでみた</td>\n      <td>1</td>\n    </tr>\n    <tr>\n      <th>44</th>\n      <td>./work/raw/1.html</td>\n      <td>フライウィールが提供するパーソナライズプラットフォーム「Conata (コナタ)™」</td>\n      <td>1</td>\n    </tr>\n    <tr>\n      <th>45</th>\n      <td>./work/raw/66.html</td>\n      <td>セッション化</td>\n      <td>1</td>\n    </tr>\n    <tr>\n      <th>47</th>\n      <td>./work/raw/27.html</td>\n      <td>ErrorProne Custom Plugin を書く</td>\n      <td>1</td>\n    </tr>\n    <tr>\n      <th>52</th>\n      <td>./work/raw/47.html</td>\n      <td>デザインドックで学ぶデザインドック</td>\n      <td>1</td>\n    </tr>\n    <tr>\n      <th>53</th>\n      <td>./work/raw/51.html</td>\n      <td>Fail fast as a PM – PMは「速く失敗」しよう</td>\n      <td>1</td>\n    </tr>\n    <tr>\n      <th>63</th>\n      <td>./work/raw/41.html</td>\n      <td>Brainwriting でブログアイデアを発掘する</td>\n      <td>1</td>\n    </tr>\n    <tr>\n      <th>64</th>\n      <td>./work/raw/57.html</td>\n      <td>PySparkで日本語形態素解析</td>\n      <td>1</td>\n    </tr>\n  </tbody>\n</table>\n</div>"
     },
     "metadata": {},
     "execution_count": 135
    }
   ],
   "source": [
    "df_topic[df_topic['topics'].str.contains('1')]"
   ]
  },
  {
   "cell_type": "code",
   "execution_count": 123,
   "metadata": {},
   "outputs": [
    {
     "output_type": "error",
     "ename": "KeyError",
     "evalue": "True",
     "traceback": [
      "\u001b[0;31m---------------------------------------------------------------------------\u001b[0m",
      "\u001b[0;31mKeyError\u001b[0m                                  Traceback (most recent call last)",
      "\u001b[0;32m<ipython-input-123-724b6dfde57a>\u001b[0m in \u001b[0;36m<module>\u001b[0;34m\u001b[0m\n\u001b[0;32m----> 1\u001b[0;31m \u001b[0mdf_topic\u001b[0m\u001b[0;34m.\u001b[0m\u001b[0mquery\u001b[0m\u001b[0;34m(\u001b[0m\u001b[0;34m'0 in topics'\u001b[0m\u001b[0;34m,\u001b[0m \u001b[0mengine\u001b[0m\u001b[0;34m=\u001b[0m\u001b[0;34m'python'\u001b[0m\u001b[0;34m)\u001b[0m\u001b[0;34m\u001b[0m\u001b[0;34m\u001b[0m\u001b[0m\n\u001b[0m",
      "\u001b[0;32m~/.pyenv/versions/flywheel/lib/python3.8/site-packages/pandas/core/frame.py\u001b[0m in \u001b[0;36mquery\u001b[0;34m(self, expr, inplace, **kwargs)\u001b[0m\n\u001b[1;32m   3467\u001b[0m \u001b[0;34m\u001b[0m\u001b[0m\n\u001b[1;32m   3468\u001b[0m         \u001b[0;32mtry\u001b[0m\u001b[0;34m:\u001b[0m\u001b[0;34m\u001b[0m\u001b[0;34m\u001b[0m\u001b[0m\n\u001b[0;32m-> 3469\u001b[0;31m             \u001b[0mresult\u001b[0m \u001b[0;34m=\u001b[0m \u001b[0mself\u001b[0m\u001b[0;34m.\u001b[0m\u001b[0mloc\u001b[0m\u001b[0;34m[\u001b[0m\u001b[0mres\u001b[0m\u001b[0;34m]\u001b[0m\u001b[0;34m\u001b[0m\u001b[0;34m\u001b[0m\u001b[0m\n\u001b[0m\u001b[1;32m   3470\u001b[0m         \u001b[0;32mexcept\u001b[0m \u001b[0mValueError\u001b[0m\u001b[0;34m:\u001b[0m\u001b[0;34m\u001b[0m\u001b[0;34m\u001b[0m\u001b[0m\n\u001b[1;32m   3471\u001b[0m             \u001b[0;31m# when res is multi-dimensional loc raises, but this is sometimes a\u001b[0m\u001b[0;34m\u001b[0m\u001b[0;34m\u001b[0m\u001b[0;34m\u001b[0m\u001b[0m\n",
      "\u001b[0;32m~/.pyenv/versions/flywheel/lib/python3.8/site-packages/pandas/core/indexing.py\u001b[0m in \u001b[0;36m__getitem__\u001b[0;34m(self, key)\u001b[0m\n\u001b[1;32m    893\u001b[0m \u001b[0;34m\u001b[0m\u001b[0m\n\u001b[1;32m    894\u001b[0m             \u001b[0mmaybe_callable\u001b[0m \u001b[0;34m=\u001b[0m \u001b[0mcom\u001b[0m\u001b[0;34m.\u001b[0m\u001b[0mapply_if_callable\u001b[0m\u001b[0;34m(\u001b[0m\u001b[0mkey\u001b[0m\u001b[0;34m,\u001b[0m \u001b[0mself\u001b[0m\u001b[0;34m.\u001b[0m\u001b[0mobj\u001b[0m\u001b[0;34m)\u001b[0m\u001b[0;34m\u001b[0m\u001b[0;34m\u001b[0m\u001b[0m\n\u001b[0;32m--> 895\u001b[0;31m             \u001b[0;32mreturn\u001b[0m \u001b[0mself\u001b[0m\u001b[0;34m.\u001b[0m\u001b[0m_getitem_axis\u001b[0m\u001b[0;34m(\u001b[0m\u001b[0mmaybe_callable\u001b[0m\u001b[0;34m,\u001b[0m \u001b[0maxis\u001b[0m\u001b[0;34m=\u001b[0m\u001b[0maxis\u001b[0m\u001b[0;34m)\u001b[0m\u001b[0;34m\u001b[0m\u001b[0;34m\u001b[0m\u001b[0m\n\u001b[0m\u001b[1;32m    896\u001b[0m \u001b[0;34m\u001b[0m\u001b[0m\n\u001b[1;32m    897\u001b[0m     \u001b[0;32mdef\u001b[0m \u001b[0m_is_scalar_access\u001b[0m\u001b[0;34m(\u001b[0m\u001b[0mself\u001b[0m\u001b[0;34m,\u001b[0m \u001b[0mkey\u001b[0m\u001b[0;34m:\u001b[0m \u001b[0mTuple\u001b[0m\u001b[0;34m)\u001b[0m\u001b[0;34m:\u001b[0m\u001b[0;34m\u001b[0m\u001b[0;34m\u001b[0m\u001b[0m\n",
      "\u001b[0;32m~/.pyenv/versions/flywheel/lib/python3.8/site-packages/pandas/core/indexing.py\u001b[0m in \u001b[0;36m_getitem_axis\u001b[0;34m(self, key, axis)\u001b[0m\n\u001b[1;32m   1122\u001b[0m         \u001b[0;31m# fall thru to straight lookup\u001b[0m\u001b[0;34m\u001b[0m\u001b[0;34m\u001b[0m\u001b[0;34m\u001b[0m\u001b[0m\n\u001b[1;32m   1123\u001b[0m         \u001b[0mself\u001b[0m\u001b[0;34m.\u001b[0m\u001b[0m_validate_key\u001b[0m\u001b[0;34m(\u001b[0m\u001b[0mkey\u001b[0m\u001b[0;34m,\u001b[0m \u001b[0maxis\u001b[0m\u001b[0;34m)\u001b[0m\u001b[0;34m\u001b[0m\u001b[0;34m\u001b[0m\u001b[0m\n\u001b[0;32m-> 1124\u001b[0;31m         \u001b[0;32mreturn\u001b[0m \u001b[0mself\u001b[0m\u001b[0;34m.\u001b[0m\u001b[0m_get_label\u001b[0m\u001b[0;34m(\u001b[0m\u001b[0mkey\u001b[0m\u001b[0;34m,\u001b[0m \u001b[0maxis\u001b[0m\u001b[0;34m=\u001b[0m\u001b[0maxis\u001b[0m\u001b[0;34m)\u001b[0m\u001b[0;34m\u001b[0m\u001b[0;34m\u001b[0m\u001b[0m\n\u001b[0m\u001b[1;32m   1125\u001b[0m \u001b[0;34m\u001b[0m\u001b[0m\n\u001b[1;32m   1126\u001b[0m     \u001b[0;32mdef\u001b[0m \u001b[0m_get_slice_axis\u001b[0m\u001b[0;34m(\u001b[0m\u001b[0mself\u001b[0m\u001b[0;34m,\u001b[0m \u001b[0mslice_obj\u001b[0m\u001b[0;34m:\u001b[0m \u001b[0mslice\u001b[0m\u001b[0;34m,\u001b[0m \u001b[0maxis\u001b[0m\u001b[0;34m:\u001b[0m \u001b[0mint\u001b[0m\u001b[0;34m)\u001b[0m\u001b[0;34m:\u001b[0m\u001b[0;34m\u001b[0m\u001b[0;34m\u001b[0m\u001b[0m\n",
      "\u001b[0;32m~/.pyenv/versions/flywheel/lib/python3.8/site-packages/pandas/core/indexing.py\u001b[0m in \u001b[0;36m_get_label\u001b[0;34m(self, label, axis)\u001b[0m\n\u001b[1;32m   1071\u001b[0m     \u001b[0;32mdef\u001b[0m \u001b[0m_get_label\u001b[0m\u001b[0;34m(\u001b[0m\u001b[0mself\u001b[0m\u001b[0;34m,\u001b[0m \u001b[0mlabel\u001b[0m\u001b[0;34m,\u001b[0m \u001b[0maxis\u001b[0m\u001b[0;34m:\u001b[0m \u001b[0mint\u001b[0m\u001b[0;34m)\u001b[0m\u001b[0;34m:\u001b[0m\u001b[0;34m\u001b[0m\u001b[0;34m\u001b[0m\u001b[0m\n\u001b[1;32m   1072\u001b[0m         \u001b[0;31m# GH#5667 this will fail if the label is not present in the axis.\u001b[0m\u001b[0;34m\u001b[0m\u001b[0;34m\u001b[0m\u001b[0;34m\u001b[0m\u001b[0m\n\u001b[0;32m-> 1073\u001b[0;31m         \u001b[0;32mreturn\u001b[0m \u001b[0mself\u001b[0m\u001b[0;34m.\u001b[0m\u001b[0mobj\u001b[0m\u001b[0;34m.\u001b[0m\u001b[0mxs\u001b[0m\u001b[0;34m(\u001b[0m\u001b[0mlabel\u001b[0m\u001b[0;34m,\u001b[0m \u001b[0maxis\u001b[0m\u001b[0;34m=\u001b[0m\u001b[0maxis\u001b[0m\u001b[0;34m)\u001b[0m\u001b[0;34m\u001b[0m\u001b[0;34m\u001b[0m\u001b[0m\n\u001b[0m\u001b[1;32m   1074\u001b[0m \u001b[0;34m\u001b[0m\u001b[0m\n\u001b[1;32m   1075\u001b[0m     \u001b[0;32mdef\u001b[0m \u001b[0m_handle_lowerdim_multi_index_axis0\u001b[0m\u001b[0;34m(\u001b[0m\u001b[0mself\u001b[0m\u001b[0;34m,\u001b[0m \u001b[0mtup\u001b[0m\u001b[0;34m:\u001b[0m \u001b[0mTuple\u001b[0m\u001b[0;34m)\u001b[0m\u001b[0;34m:\u001b[0m\u001b[0;34m\u001b[0m\u001b[0;34m\u001b[0m\u001b[0m\n",
      "\u001b[0;32m~/.pyenv/versions/flywheel/lib/python3.8/site-packages/pandas/core/generic.py\u001b[0m in \u001b[0;36mxs\u001b[0;34m(self, key, axis, level, drop_level)\u001b[0m\n\u001b[1;32m   3736\u001b[0m                 \u001b[0;32mraise\u001b[0m \u001b[0mTypeError\u001b[0m\u001b[0;34m(\u001b[0m\u001b[0;34mf\"Expected label or tuple of labels, got {key}\"\u001b[0m\u001b[0;34m)\u001b[0m \u001b[0;32mfrom\u001b[0m \u001b[0me\u001b[0m\u001b[0;34m\u001b[0m\u001b[0;34m\u001b[0m\u001b[0m\n\u001b[1;32m   3737\u001b[0m         \u001b[0;32melse\u001b[0m\u001b[0;34m:\u001b[0m\u001b[0;34m\u001b[0m\u001b[0;34m\u001b[0m\u001b[0m\n\u001b[0;32m-> 3738\u001b[0;31m             \u001b[0mloc\u001b[0m \u001b[0;34m=\u001b[0m \u001b[0mindex\u001b[0m\u001b[0;34m.\u001b[0m\u001b[0mget_loc\u001b[0m\u001b[0;34m(\u001b[0m\u001b[0mkey\u001b[0m\u001b[0;34m)\u001b[0m\u001b[0;34m\u001b[0m\u001b[0;34m\u001b[0m\u001b[0m\n\u001b[0m\u001b[1;32m   3739\u001b[0m \u001b[0;34m\u001b[0m\u001b[0m\n\u001b[1;32m   3740\u001b[0m             \u001b[0;32mif\u001b[0m \u001b[0misinstance\u001b[0m\u001b[0;34m(\u001b[0m\u001b[0mloc\u001b[0m\u001b[0;34m,\u001b[0m \u001b[0mnp\u001b[0m\u001b[0;34m.\u001b[0m\u001b[0mndarray\u001b[0m\u001b[0;34m)\u001b[0m\u001b[0;34m:\u001b[0m\u001b[0;34m\u001b[0m\u001b[0;34m\u001b[0m\u001b[0m\n",
      "\u001b[0;32m~/.pyenv/versions/flywheel/lib/python3.8/site-packages/pandas/core/indexes/range.py\u001b[0m in \u001b[0;36mget_loc\u001b[0;34m(self, key, method, tolerance)\u001b[0m\n\u001b[1;32m    352\u001b[0m                 \u001b[0;32mexcept\u001b[0m \u001b[0mValueError\u001b[0m \u001b[0;32mas\u001b[0m \u001b[0merr\u001b[0m\u001b[0;34m:\u001b[0m\u001b[0;34m\u001b[0m\u001b[0;34m\u001b[0m\u001b[0m\n\u001b[1;32m    353\u001b[0m                     \u001b[0;32mraise\u001b[0m \u001b[0mKeyError\u001b[0m\u001b[0;34m(\u001b[0m\u001b[0mkey\u001b[0m\u001b[0;34m)\u001b[0m \u001b[0;32mfrom\u001b[0m \u001b[0merr\u001b[0m\u001b[0;34m\u001b[0m\u001b[0;34m\u001b[0m\u001b[0m\n\u001b[0;32m--> 354\u001b[0;31m             \u001b[0;32mraise\u001b[0m \u001b[0mKeyError\u001b[0m\u001b[0;34m(\u001b[0m\u001b[0mkey\u001b[0m\u001b[0;34m)\u001b[0m\u001b[0;34m\u001b[0m\u001b[0;34m\u001b[0m\u001b[0m\n\u001b[0m\u001b[1;32m    355\u001b[0m         \u001b[0;32mreturn\u001b[0m \u001b[0msuper\u001b[0m\u001b[0;34m(\u001b[0m\u001b[0;34m)\u001b[0m\u001b[0;34m.\u001b[0m\u001b[0mget_loc\u001b[0m\u001b[0;34m(\u001b[0m\u001b[0mkey\u001b[0m\u001b[0;34m,\u001b[0m \u001b[0mmethod\u001b[0m\u001b[0;34m=\u001b[0m\u001b[0mmethod\u001b[0m\u001b[0;34m,\u001b[0m \u001b[0mtolerance\u001b[0m\u001b[0;34m=\u001b[0m\u001b[0mtolerance\u001b[0m\u001b[0;34m)\u001b[0m\u001b[0;34m\u001b[0m\u001b[0;34m\u001b[0m\u001b[0m\n\u001b[1;32m    356\u001b[0m \u001b[0;34m\u001b[0m\u001b[0m\n",
      "\u001b[0;31mKeyError\u001b[0m: True"
     ]
    }
   ],
   "source": []
  },
  {
   "cell_type": "code",
   "execution_count": null,
   "metadata": {},
   "outputs": [],
   "source": []
  },
  {
   "cell_type": "code",
   "execution_count": 43,
   "metadata": {},
   "outputs": [],
   "source": [
    "from collections import defaultdict\n",
    "from gensim.models.keyedvectors import KeyedVectors\n",
    "from sklearn.cluster import KMeans"
   ]
  },
  {
   "cell_type": "code",
   "execution_count": 44,
   "metadata": {},
   "outputs": [],
   "source": [
    "# 以下から最新の学習済みモデルをダウンロード\n",
    "# https://github.com/singletongue/WikiEntVec/releases\n",
    "# 今回利用したのは20190520のjawiki.all_vectors.100d.txt.bz2\n",
    "\n",
    "model = KeyedVectors.load_word2vec_format('work/jawiki.all_vectors.100d.txt')"
   ]
  },
  {
   "cell_type": "code",
   "execution_count": 45,
   "metadata": {},
   "outputs": [
    {
     "output_type": "stream",
     "name": "stdout",
     "text": [
      "理科 と類似度の高い単語\n('##理科##', 0.849571943283081)\n('図画工作', 0.796046257019043)\n('家庭科', 0.7760507464408875)\n('算数', 0.771944522857666)\n('##物理##', 0.7701616883277893)\n('技術・家庭', 0.7691288590431213)\n('数学科', 0.7614375352859497)\n('社会科', 0.7590746879577637)\n('教室', 0.7588263750076294)\n('##社会科##', 0.756842851638794)\n"
     ]
    }
   ],
   "source": [
    "word = '理科'\n",
    "results = model.wv.most_similar(word)\n",
    "print(word, \"と類似度の高い単語\") \n",
    "for result in results:\n",
    "    print(result)"
   ]
  },
  {
   "cell_type": "code",
   "execution_count": 51,
   "metadata": {},
   "outputs": [
    {
     "output_type": "error",
     "ename": "KeyError",
     "evalue": "\"word 'jira' not in vocabulary\"",
     "traceback": [
      "\u001b[0;31m---------------------------------------------------------------------------\u001b[0m",
      "\u001b[0;31mKeyError\u001b[0m                                  Traceback (most recent call last)",
      "\u001b[0;32m<ipython-input-51-5ba8824ea898>\u001b[0m in \u001b[0;36m<module>\u001b[0;34m\u001b[0m\n\u001b[0;32m----> 1\u001b[0;31m \u001b[0mvectors\u001b[0m \u001b[0;34m=\u001b[0m \u001b[0;34m[\u001b[0m\u001b[0mmodel\u001b[0m\u001b[0;34m.\u001b[0m\u001b[0mwv\u001b[0m\u001b[0;34m[\u001b[0m\u001b[0mdictionary\u001b[0m\u001b[0;34m[\u001b[0m\u001b[0mkey\u001b[0m\u001b[0;34m]\u001b[0m\u001b[0;34m]\u001b[0m \u001b[0;32mfor\u001b[0m \u001b[0mkey\u001b[0m \u001b[0;32min\u001b[0m \u001b[0mdictionary\u001b[0m\u001b[0;34m]\u001b[0m\u001b[0;34m\u001b[0m\u001b[0;34m\u001b[0m\u001b[0m\n\u001b[0m",
      "\u001b[0;32m<ipython-input-51-5ba8824ea898>\u001b[0m in \u001b[0;36m<listcomp>\u001b[0;34m(.0)\u001b[0m\n\u001b[0;32m----> 1\u001b[0;31m \u001b[0mvectors\u001b[0m \u001b[0;34m=\u001b[0m \u001b[0;34m[\u001b[0m\u001b[0mmodel\u001b[0m\u001b[0;34m.\u001b[0m\u001b[0mwv\u001b[0m\u001b[0;34m[\u001b[0m\u001b[0mdictionary\u001b[0m\u001b[0;34m[\u001b[0m\u001b[0mkey\u001b[0m\u001b[0;34m]\u001b[0m\u001b[0;34m]\u001b[0m \u001b[0;32mfor\u001b[0m \u001b[0mkey\u001b[0m \u001b[0;32min\u001b[0m \u001b[0mdictionary\u001b[0m\u001b[0;34m]\u001b[0m\u001b[0;34m\u001b[0m\u001b[0;34m\u001b[0m\u001b[0m\n\u001b[0m",
      "\u001b[0;32m~/.pyenv/versions/flywheel/lib/python3.8/site-packages/gensim/models/keyedvectors.py\u001b[0m in \u001b[0;36m__getitem__\u001b[0;34m(self, entities)\u001b[0m\n\u001b[1;32m    351\u001b[0m         \u001b[0;32mif\u001b[0m \u001b[0misinstance\u001b[0m\u001b[0;34m(\u001b[0m\u001b[0mentities\u001b[0m\u001b[0;34m,\u001b[0m \u001b[0mstring_types\u001b[0m\u001b[0;34m)\u001b[0m\u001b[0;34m:\u001b[0m\u001b[0;34m\u001b[0m\u001b[0;34m\u001b[0m\u001b[0m\n\u001b[1;32m    352\u001b[0m             \u001b[0;31m# allow calls like trained_model['office'], as a shorthand for trained_model[['office']]\u001b[0m\u001b[0;34m\u001b[0m\u001b[0;34m\u001b[0m\u001b[0;34m\u001b[0m\u001b[0m\n\u001b[0;32m--> 353\u001b[0;31m             \u001b[0;32mreturn\u001b[0m \u001b[0mself\u001b[0m\u001b[0;34m.\u001b[0m\u001b[0mget_vector\u001b[0m\u001b[0;34m(\u001b[0m\u001b[0mentities\u001b[0m\u001b[0;34m)\u001b[0m\u001b[0;34m\u001b[0m\u001b[0;34m\u001b[0m\u001b[0m\n\u001b[0m\u001b[1;32m    354\u001b[0m \u001b[0;34m\u001b[0m\u001b[0m\n\u001b[1;32m    355\u001b[0m         \u001b[0;32mreturn\u001b[0m \u001b[0mvstack\u001b[0m\u001b[0;34m(\u001b[0m\u001b[0;34m[\u001b[0m\u001b[0mself\u001b[0m\u001b[0;34m.\u001b[0m\u001b[0mget_vector\u001b[0m\u001b[0;34m(\u001b[0m\u001b[0mentity\u001b[0m\u001b[0;34m)\u001b[0m \u001b[0;32mfor\u001b[0m \u001b[0mentity\u001b[0m \u001b[0;32min\u001b[0m \u001b[0mentities\u001b[0m\u001b[0;34m]\u001b[0m\u001b[0;34m)\u001b[0m\u001b[0;34m\u001b[0m\u001b[0;34m\u001b[0m\u001b[0m\n",
      "\u001b[0;32m~/.pyenv/versions/flywheel/lib/python3.8/site-packages/gensim/models/keyedvectors.py\u001b[0m in \u001b[0;36mget_vector\u001b[0;34m(self, word)\u001b[0m\n\u001b[1;32m    469\u001b[0m \u001b[0;34m\u001b[0m\u001b[0m\n\u001b[1;32m    470\u001b[0m     \u001b[0;32mdef\u001b[0m \u001b[0mget_vector\u001b[0m\u001b[0;34m(\u001b[0m\u001b[0mself\u001b[0m\u001b[0;34m,\u001b[0m \u001b[0mword\u001b[0m\u001b[0;34m)\u001b[0m\u001b[0;34m:\u001b[0m\u001b[0;34m\u001b[0m\u001b[0;34m\u001b[0m\u001b[0m\n\u001b[0;32m--> 471\u001b[0;31m         \u001b[0;32mreturn\u001b[0m \u001b[0mself\u001b[0m\u001b[0;34m.\u001b[0m\u001b[0mword_vec\u001b[0m\u001b[0;34m(\u001b[0m\u001b[0mword\u001b[0m\u001b[0;34m)\u001b[0m\u001b[0;34m\u001b[0m\u001b[0;34m\u001b[0m\u001b[0m\n\u001b[0m\u001b[1;32m    472\u001b[0m \u001b[0;34m\u001b[0m\u001b[0m\n\u001b[1;32m    473\u001b[0m     \u001b[0;32mdef\u001b[0m \u001b[0mwords_closer_than\u001b[0m\u001b[0;34m(\u001b[0m\u001b[0mself\u001b[0m\u001b[0;34m,\u001b[0m \u001b[0mw1\u001b[0m\u001b[0;34m,\u001b[0m \u001b[0mw2\u001b[0m\u001b[0;34m)\u001b[0m\u001b[0;34m:\u001b[0m\u001b[0;34m\u001b[0m\u001b[0;34m\u001b[0m\u001b[0m\n",
      "\u001b[0;32m~/.pyenv/versions/flywheel/lib/python3.8/site-packages/gensim/models/keyedvectors.py\u001b[0m in \u001b[0;36mword_vec\u001b[0;34m(self, word, use_norm)\u001b[0m\n\u001b[1;32m    466\u001b[0m             \u001b[0;32mreturn\u001b[0m \u001b[0mresult\u001b[0m\u001b[0;34m\u001b[0m\u001b[0;34m\u001b[0m\u001b[0m\n\u001b[1;32m    467\u001b[0m         \u001b[0;32melse\u001b[0m\u001b[0;34m:\u001b[0m\u001b[0;34m\u001b[0m\u001b[0;34m\u001b[0m\u001b[0m\n\u001b[0;32m--> 468\u001b[0;31m             \u001b[0;32mraise\u001b[0m \u001b[0mKeyError\u001b[0m\u001b[0;34m(\u001b[0m\u001b[0;34m\"word '%s' not in vocabulary\"\u001b[0m \u001b[0;34m%\u001b[0m \u001b[0mword\u001b[0m\u001b[0;34m)\u001b[0m\u001b[0;34m\u001b[0m\u001b[0;34m\u001b[0m\u001b[0m\n\u001b[0m\u001b[1;32m    469\u001b[0m \u001b[0;34m\u001b[0m\u001b[0m\n\u001b[1;32m    470\u001b[0m     \u001b[0;32mdef\u001b[0m \u001b[0mget_vector\u001b[0m\u001b[0;34m(\u001b[0m\u001b[0mself\u001b[0m\u001b[0;34m,\u001b[0m \u001b[0mword\u001b[0m\u001b[0;34m)\u001b[0m\u001b[0;34m:\u001b[0m\u001b[0;34m\u001b[0m\u001b[0;34m\u001b[0m\u001b[0m\n",
      "\u001b[0;31mKeyError\u001b[0m: \"word 'jira' not in vocabulary\""
     ]
    }
   ],
   "source": [
    "vectors = [model.wv[dictionary[key]] for key in dictionary]"
   ]
  },
  {
   "cell_type": "code",
   "execution_count": null,
   "metadata": {},
   "outputs": [],
   "source": []
  },
  {
   "cell_type": "code",
   "execution_count": null,
   "metadata": {},
   "outputs": [],
   "source": []
  },
  {
   "cell_type": "code",
   "execution_count": null,
   "metadata": {},
   "outputs": [],
   "source": []
  },
  {
   "cell_type": "code",
   "execution_count": null,
   "metadata": {},
   "outputs": [],
   "source": []
  },
  {
   "cell_type": "code",
   "execution_count": null,
   "metadata": {},
   "outputs": [],
   "source": []
  },
  {
   "cell_type": "code",
   "execution_count": null,
   "metadata": {},
   "outputs": [],
   "source": []
  }
 ]
}