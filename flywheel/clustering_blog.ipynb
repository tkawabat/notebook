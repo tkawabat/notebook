{
 "metadata": {
  "language_info": {
   "codemirror_mode": {
    "name": "ipython",
    "version": 3
   },
   "file_extension": ".py",
   "mimetype": "text/x-python",
   "name": "python",
   "nbconvert_exporter": "python",
   "pygments_lexer": "ipython3",
   "version": "3.8.5-final"
  },
  "orig_nbformat": 2,
  "kernelspec": {
   "name": "python3",
   "display_name": "Python 3.8.5 64-bit ('flywheel')",
   "metadata": {
    "interpreter": {
     "hash": "ddf91c9a6b9164a5c56a5c7bade55434dc35884a79de7be7d1e9bc3b137ab8f0"
    }
   }
  }
 },
 "nbformat": 4,
 "nbformat_minor": 2,
 "cells": [
  {
   "cell_type": "code",
   "execution_count": 6,
   "metadata": {},
   "outputs": [],
   "source": [
    "import warnings\n",
    "warnings.filterwarnings(\"ignore\", category=DeprecationWarning)\n",
    "\n",
    "from tqdm import tqdm_notebook as tqdm\n",
    "import re\n",
    "import math\n",
    "import numpy as np\n",
    "import pandas as pd\n",
    "import matplotlib\n",
    "matplotlib.use('Agg')\n",
    "import matplotlib.pyplot as plt\n",
    "plt.rcParams['font.family'] = 'IPAexGothic'\n",
    "\n",
    "from scipy.cluster.hierarchy import linkage, dendrogram\n",
    "\n",
    "from gensim.corpora.dictionary import Dictionary\n",
    "from gensim.models import LdaModel, CoherenceModel, TfidfModel\n",
    "\n",
    "import pyLDAvis\n",
    "import pyLDAvis.gensim\n",
    "pyLDAvis.enable_notebook()\n",
    "\n",
    "from wordcloud import WordCloud"
   ]
  },
  {
   "cell_type": "code",
   "execution_count": 7,
   "metadata": {},
   "outputs": [
    {
     "output_type": "display_data",
     "data": {
      "text/plain": "  0%|          | 0/68 [00:00<?, ?it/s]",
      "application/vnd.jupyter.widget-view+json": {
       "version_major": 2,
       "version_minor": 0,
       "model_id": "bdebdf7f454b4c46af8ed883da94daa6"
      }
     },
     "metadata": {}
    }
   ],
   "source": [
    "import glob\n",
    "from bs4 import BeautifulSoup\n",
    "\n",
    "files = glob.glob('./work/raw/*html')\n",
    "\n",
    "def parse(fileName):\n",
    "    with open(fileName) as f:\n",
    "        soup = BeautifulSoup(f, 'html.parser')\n",
    "\n",
    "    title      = soup.select_one('article.blog-entry-article h1.blog-title').get_text()\n",
    "    date       = soup.select_one('article.blog-entry-article div.blog-date').get_text()\n",
    "    category   = soup.select_one('article.blog-entry-article li.blog-category').get_text()\n",
    "    text       = soup.select_one('article.blog-entry-article div.content').get_text()\n",
    "    \n",
    "    \n",
    "    return [fileName, title, date, category, text]\n",
    "\n",
    "\n",
    "data = [parse(fileName) for fileName in tqdm(files)]"
   ]
  },
  {
   "cell_type": "code",
   "execution_count": 8,
   "metadata": {},
   "outputs": [
    {
     "output_type": "execute_result",
     "data": {
      "text/plain": [
       "                 file                                   title        date  \\\n",
       "0  ./work/raw/23.html             ソフトウェアエンジニアの採用にルーブリックを導入した話  2019.12.22   \n",
       "1  ./work/raw/35.html  Kubernetes + Fluentd + CloudWatch Logs   2019.12.8   \n",
       "2  ./work/raw/62.html          event timeとprocessing timeについて   2018.12.4   \n",
       "3   ./work/raw/9.html                  フライウィール・データプラットフォームの紹介   2020.8.27   \n",
       "4  ./work/raw/19.html        渋谷オフィスへの引越し前に認証を引っ越した話 Part2-実践編  2019.12.25   \n",
       "\n",
       "    category                                               text  \n",
       "0       TECH  \\n\\n\\nソフトウェアエンジニアの hota です。今回はソフトウェアエンジニアの採用につ...  \n",
       "1       TECH  ソフトウェアエンジニアのskirinoです。\\n最近ではコンテナ化したアプリケーションの設定...  \n",
       "2       TECH  \\nこんにちは。ソフトウェアエンジニアの田中伸弥です。\\n\\n\\n時系列データのevent ...  \n",
       "3  MARKETING  プロダクトマネージャーの横井啓介です。\\n前回の投稿では、デジタルトランスフォーメーション戦...  \n",
       "4       TECH  こんにちは。FLYWHEELでソフトウェアエンジニアをしてますsaoiです。前回の投稿の投稿...  "
      ],
      "text/html": "<div>\n<style scoped>\n    .dataframe tbody tr th:only-of-type {\n        vertical-align: middle;\n    }\n\n    .dataframe tbody tr th {\n        vertical-align: top;\n    }\n\n    .dataframe thead th {\n        text-align: right;\n    }\n</style>\n<table border=\"1\" class=\"dataframe\">\n  <thead>\n    <tr style=\"text-align: right;\">\n      <th></th>\n      <th>file</th>\n      <th>title</th>\n      <th>date</th>\n      <th>category</th>\n      <th>text</th>\n    </tr>\n  </thead>\n  <tbody>\n    <tr>\n      <th>0</th>\n      <td>./work/raw/23.html</td>\n      <td>ソフトウェアエンジニアの採用にルーブリックを導入した話</td>\n      <td>2019.12.22</td>\n      <td>TECH</td>\n      <td>\\n\\n\\nソフトウェアエンジニアの hota です。今回はソフトウェアエンジニアの採用につ...</td>\n    </tr>\n    <tr>\n      <th>1</th>\n      <td>./work/raw/35.html</td>\n      <td>Kubernetes + Fluentd + CloudWatch Logs</td>\n      <td>2019.12.8</td>\n      <td>TECH</td>\n      <td>ソフトウェアエンジニアのskirinoです。\\n最近ではコンテナ化したアプリケーションの設定...</td>\n    </tr>\n    <tr>\n      <th>2</th>\n      <td>./work/raw/62.html</td>\n      <td>event timeとprocessing timeについて</td>\n      <td>2018.12.4</td>\n      <td>TECH</td>\n      <td>\\nこんにちは。ソフトウェアエンジニアの田中伸弥です。\\n\\n\\n時系列データのevent ...</td>\n    </tr>\n    <tr>\n      <th>3</th>\n      <td>./work/raw/9.html</td>\n      <td>フライウィール・データプラットフォームの紹介</td>\n      <td>2020.8.27</td>\n      <td>MARKETING</td>\n      <td>プロダクトマネージャーの横井啓介です。\\n前回の投稿では、デジタルトランスフォーメーション戦...</td>\n    </tr>\n    <tr>\n      <th>4</th>\n      <td>./work/raw/19.html</td>\n      <td>渋谷オフィスへの引越し前に認証を引っ越した話 Part2-実践編</td>\n      <td>2019.12.25</td>\n      <td>TECH</td>\n      <td>こんにちは。FLYWHEELでソフトウェアエンジニアをしてますsaoiです。前回の投稿の投稿...</td>\n    </tr>\n  </tbody>\n</table>\n</div>"
     },
     "metadata": {},
     "execution_count": 8
    }
   ],
   "source": [
    "df = pd.DataFrame(data, columns=['file', 'title', 'date', 'category', 'text'])\n",
    "df.head()"
   ]
  },
  {
   "cell_type": "code",
   "execution_count": 32,
   "metadata": {},
   "outputs": [
    {
     "output_type": "execute_result",
     "data": {
      "text/plain": [
       "           file title  date  text words\n",
       "          count count count count count\n",
       "category                               \n",
       "COMPANY       6     6     6     6     6\n",
       "MARKETING    10    10    10    10    10\n",
       "TECH         52    52    52    52    52"
      ],
      "text/html": "<div>\n<style scoped>\n    .dataframe tbody tr th:only-of-type {\n        vertical-align: middle;\n    }\n\n    .dataframe tbody tr th {\n        vertical-align: top;\n    }\n\n    .dataframe thead tr th {\n        text-align: left;\n    }\n\n    .dataframe thead tr:last-of-type th {\n        text-align: right;\n    }\n</style>\n<table border=\"1\" class=\"dataframe\">\n  <thead>\n    <tr>\n      <th></th>\n      <th>file</th>\n      <th>title</th>\n      <th>date</th>\n      <th>text</th>\n      <th>words</th>\n    </tr>\n    <tr>\n      <th></th>\n      <th>count</th>\n      <th>count</th>\n      <th>count</th>\n      <th>count</th>\n      <th>count</th>\n    </tr>\n    <tr>\n      <th>category</th>\n      <th></th>\n      <th></th>\n      <th></th>\n      <th></th>\n      <th></th>\n    </tr>\n  </thead>\n  <tbody>\n    <tr>\n      <th>COMPANY</th>\n      <td>6</td>\n      <td>6</td>\n      <td>6</td>\n      <td>6</td>\n      <td>6</td>\n    </tr>\n    <tr>\n      <th>MARKETING</th>\n      <td>10</td>\n      <td>10</td>\n      <td>10</td>\n      <td>10</td>\n      <td>10</td>\n    </tr>\n    <tr>\n      <th>TECH</th>\n      <td>52</td>\n      <td>52</td>\n      <td>52</td>\n      <td>52</td>\n      <td>52</td>\n    </tr>\n  </tbody>\n</table>\n</div>"
     },
     "metadata": {},
     "execution_count": 32
    }
   ],
   "source": [
    "df.groupby('category').agg(['count'])"
   ]
  },
  {
   "cell_type": "code",
   "execution_count": 10,
   "metadata": {},
   "outputs": [],
   "source": [
    "## 前処理\n",
    "import MeCab\n",
    "m = MeCab.Tagger('-d /usr/local/lib/mecab/dic/ipadic')\n",
    "\n",
    "HINSHI = ['名詞']\n",
    "STOPWORDS = ['フライウィール', 'flywheel', 'var', 'main', 'test', 'time', 'src', 'com', 'jp', 'れる', 'これ', 'なっ', 'それ', 'もの', 'たち', 'さん']\n",
    "\n",
    "def parseText(text):\n",
    "    node = m.parseToNode(text)\n",
    "    words = []\n",
    "    while node:\n",
    "        fields = node.feature.split(\",\")\n",
    "        word = node.surface.lower() # 小文字化\n",
    "        word = re.sub(r'\\d+', '0', word) # 数字置き換え        \n",
    "        word = re.sub(r'[\\.\\/\\(\\){}\\[\\]:,?!;\\*=_\\-\\'\"@<>#\\^%]+', '', word) # 記号除去\n",
    "        if fields[0] in HINSHI and word not in STOPWORDS and len(word) > 1:\n",
    "            words.append(word)\n",
    "        node = node.next\n",
    "    \n",
    "    return words"
   ]
  },
  {
   "cell_type": "code",
   "execution_count": 11,
   "metadata": {},
   "outputs": [
    {
     "output_type": "execute_result",
     "data": {
      "text/plain": [
       "0    [ソフトウェア, エンジニア, hota, 今回, ソフトウェア, エンジニア, 採用, お...\n",
       "1    [ソフトウェア, エンジニア, skirino, 最近, コンテナ, アプリケーション, 設...\n",
       "2    [ソフトウェア, エンジニア, 田中, 系列, データ, event, processing...\n",
       "3    [プロダクト, マネージャー, 横井, 啓介, 前回, 投稿, デジタルトランスフォーメーシ...\n",
       "4    [ソフトウェア, エンジニア, saoi, 前回, 投稿, 投稿, 広告, 配信, プラット...\n",
       "Name: words, dtype: object"
      ]
     },
     "metadata": {},
     "execution_count": 11
    }
   ],
   "source": [
    "df['words'] = df['text'].map(lambda text: parseText(text))\n",
    "# df['words'] = df['title'].map(lambda text: parseText(text))\n",
    "df['words'].head()"
   ]
  },
  {
   "cell_type": "code",
   "execution_count": 12,
   "metadata": {},
   "outputs": [
    {
     "output_type": "stream",
     "name": "stdout",
     "text": [
      "1388\n"
     ]
    }
   ],
   "source": [
    "## 辞書とコーパスの作成\n",
    "dictionary = Dictionary(df['words'])\n",
    "dictionary.filter_extremes(no_below=3, no_above=0.7)\n",
    "print(len(dictionary))\n",
    "\n",
    "# BoWコーパス\n",
    "corpus = [dictionary.doc2bow(words) for words in df['words']]\n",
    "\n",
    "# tfidfコーパス\n",
    "tfidf = TfidfModel(corpus)\n",
    "corpus = tfidf[corpus]"
   ]
  },
  {
   "cell_type": "code",
   "execution_count": 13,
   "metadata": {},
   "outputs": [
    {
     "output_type": "display_data",
     "data": {
      "text/plain": "  0%|          | 0/8 [00:00<?, ?it/s]",
      "application/vnd.jupyter.widget-view+json": {
       "version_major": 2,
       "version_minor": 0,
       "model_id": "52bcd3b76ed94233ae36b60e8e45b2a2"
      }
     },
     "metadata": {}
    }
   ],
   "source": [
    "## トピック数の探索\n",
    "start = 2\n",
    "limit = 10\n",
    "step = 1\n",
    "\n",
    "coherence_vals = []\n",
    "perplexity_vals = []\n",
    "\n",
    "for n_topic in tqdm(range(start, limit, step)):\n",
    "    lda_model = LdaModel(corpus=corpus, id2word=dictionary, num_topics=n_topic, random_state=0)\n",
    "    perplexity_vals.append(np.exp2(-lda_model.log_perplexity(corpus)))\n",
    "    coherence_model_lda = CoherenceModel(model=lda_model, texts=df['words'], dictionary=dictionary, coherence='c_v')\n",
    "    coherence_vals.append(coherence_model_lda.get_coherence())"
   ]
  },
  {
   "cell_type": "code",
   "execution_count": 14,
   "metadata": {},
   "outputs": [],
   "source": [
    "# evaluation\n",
    "x = range(start, limit, step)\n",
    "\n",
    "fig, ax1 = plt.subplots(figsize=(12,5))\n",
    "\n",
    "# coherence\n",
    "c1 = 'darkturquoise'\n",
    "ax1.plot(x, coherence_vals, 'o-', color=c1)\n",
    "ax1.set_xlabel('Num Topics')\n",
    "ax1.set_ylabel('Coherence', color=c1); ax1.tick_params('y', colors=c1)\n",
    "\n",
    "# perplexity\n",
    "c2 = 'slategray'\n",
    "ax2 = ax1.twinx()\n",
    "ax2.plot(x, perplexity_vals, 'o-', color=c2)\n",
    "ax2.set_ylabel('Perplexity', color=c2); ax2.tick_params('y', colors=c2)\n",
    "\n",
    "# Vis\n",
    "ax1.set_xticks(x)\n",
    "fig.tight_layout()\n",
    "plt.show()\n",
    "plt.savefig('work/metrics.png')\n"
   ]
  },
  {
   "cell_type": "code",
   "execution_count": 15,
   "metadata": {},
   "outputs": [],
   "source": [
    "NUM_TOPICS = 4\n",
    "lda_model = LdaModel(corpus=corpus, id2word=dictionary, num_topics=NUM_TOPICS, random_state=0)\n",
    "lda_model.save('work/lda.model')"
   ]
  },
  {
   "cell_type": "code",
   "execution_count": 28,
   "metadata": {},
   "outputs": [
    {
     "output_type": "stream",
     "name": "stdout",
     "text": [
      "TOPIC: 0 __ 0.003*\"event\" + 0.003*\"インターン\" + 0.002*\"processing\" + 0.002*\"ログ\" + 0.002*\"task\" + 0.002*\"クリック\" + 0.002*\"絵文字\" + 0.002*\"リポジトリ\" + 0.002*\"回転\" + 0.002*\"user\"\nTOPIC: 1 __ 0.003*\"java\" + 0.003*\"bazel\" + 0.002*\"info\" + 0.002*\"アイデア\" + 0.002*\"お客様\" + 0.002*\"失敗\" + 0.002*\"ログ\" + 0.002*\"面接\" + 0.002*\"ユーザー\" + 0.002*\"cloud\"\nTOPIC: 2 __ 0.003*\"入札\" + 0.002*\"インターン\" + 0.002*\"広告\" + 0.002*\"dsp\" + 0.002*\"テスト\" + 0.002*\"商品\" + 0.002*\"パーソナライゼーション\" + 0.002*\"技術\" + 0.002*\"file\" + 0.002*\"企業\"\nTOPIC: 3 __ 0.002*\"回転\" + 0.002*\"auth\" + 0.002*\"施策\" + 0.002*\"企業\" + 0.002*\"組織\" + 0.002*\"dx\" + 0.002*\"emoji\" + 0.002*\"ログ\" + 0.002*\"認証\" + 0.002*\"移行\"\n"
     ]
    }
   ],
   "source": [
    "for i in range(lda_model.num_topics):\n",
    "        print('TOPIC:', i, '__', lda_model.print_topic(i))"
   ]
  },
  {
   "cell_type": "code",
   "execution_count": 17,
   "metadata": {},
   "outputs": [],
   "source": [
    "# WordCloud\n",
    "# 日本語フォントをダウンロードしてwork以下に設置\n",
    "fig, axs = plt.subplots(ncols=2, nrows=math.ceil(lda_model.num_topics/2), figsize=(16,20))\n",
    "axs = axs.flatten()\n",
    "\n",
    "def color_func(word, font_size, position, orientation, random_state, font_path):\n",
    "    return 'darkturquoise'\n",
    "\n",
    "for i, t in enumerate(range(lda_model.num_topics)):\n",
    "\n",
    "    x = dict(lda_model.show_topic(t, 30))\n",
    "    im = WordCloud(\n",
    "        background_color='black',\n",
    "        color_func=color_func,\n",
    "        max_words=4000,\n",
    "        width=300, height=300,\n",
    "        random_state=0,\n",
    "        font_path='./work/ipaexg.ttf'\n",
    "    ).generate_from_frequencies(x)\n",
    "    axs[i].imshow(im.recolor(colormap= 'Paired_r' , random_state=244), alpha=0.98)\n",
    "    axs[i].axis('off')\n",
    "    axs[i].set_title('Topic '+str(t))\n",
    "\n",
    "# vis\n",
    "plt.tight_layout()\n",
    "plt.show()\n",
    "\n",
    "# save as png\n",
    "plt.savefig('work/wordcloud.png') "
   ]
  },
  {
   "cell_type": "code",
   "execution_count": 18,
   "metadata": {},
   "outputs": [],
   "source": [
    "# Vis PCoA\n",
    "vis_pcoa = pyLDAvis.gensim.prepare(lda_model, corpus, dictionary, sort_topics=False)\n",
    "vis_pcoa\n",
    "\n",
    "# save as html\n",
    "pyLDAvis.save_html(vis_pcoa, 'work/pyldavis_output_pcoa.html')"
   ]
  },
  {
   "cell_type": "code",
   "execution_count": 34,
   "metadata": {
    "tags": []
   },
   "outputs": [
    {
     "output_type": "execute_result",
     "data": {
      "text/plain": [
       "                 file                                   title   category  \\\n",
       "0  ./work/raw/23.html             ソフトウェアエンジニアの採用にルーブリックを導入した話       TECH   \n",
       "1  ./work/raw/35.html  Kubernetes + Fluentd + CloudWatch Logs       TECH   \n",
       "2  ./work/raw/62.html          event timeとprocessing timeについて       TECH   \n",
       "3   ./work/raw/9.html                  フライウィール・データプラットフォームの紹介  MARKETING   \n",
       "4  ./work/raw/19.html        渋谷オフィスへの引越し前に認証を引っ越した話 Part2-実践編       TECH   \n",
       "\n",
       "  topics  \n",
       "0      1  \n",
       "1      0  \n",
       "2      0  \n",
       "3      1  \n",
       "4      3  "
      ],
      "text/html": "<div>\n<style scoped>\n    .dataframe tbody tr th:only-of-type {\n        vertical-align: middle;\n    }\n\n    .dataframe tbody tr th {\n        vertical-align: top;\n    }\n\n    .dataframe thead th {\n        text-align: right;\n    }\n</style>\n<table border=\"1\" class=\"dataframe\">\n  <thead>\n    <tr style=\"text-align: right;\">\n      <th></th>\n      <th>file</th>\n      <th>title</th>\n      <th>category</th>\n      <th>topics</th>\n    </tr>\n  </thead>\n  <tbody>\n    <tr>\n      <th>0</th>\n      <td>./work/raw/23.html</td>\n      <td>ソフトウェアエンジニアの採用にルーブリックを導入した話</td>\n      <td>TECH</td>\n      <td>1</td>\n    </tr>\n    <tr>\n      <th>1</th>\n      <td>./work/raw/35.html</td>\n      <td>Kubernetes + Fluentd + CloudWatch Logs</td>\n      <td>TECH</td>\n      <td>0</td>\n    </tr>\n    <tr>\n      <th>2</th>\n      <td>./work/raw/62.html</td>\n      <td>event timeとprocessing timeについて</td>\n      <td>TECH</td>\n      <td>0</td>\n    </tr>\n    <tr>\n      <th>3</th>\n      <td>./work/raw/9.html</td>\n      <td>フライウィール・データプラットフォームの紹介</td>\n      <td>MARKETING</td>\n      <td>1</td>\n    </tr>\n    <tr>\n      <th>4</th>\n      <td>./work/raw/19.html</td>\n      <td>渋谷オフィスへの引越し前に認証を引っ越した話 Part2-実践編</td>\n      <td>TECH</td>\n      <td>3</td>\n    </tr>\n  </tbody>\n</table>\n</div>"
     },
     "metadata": {},
     "execution_count": 34
    }
   ],
   "source": [
    "data = []\n",
    "for c, words, fileName, title, category in zip(corpus, df['words'], df['file'], df['title'], df['category']):\n",
    "    topics = []\n",
    "    for topic, score in lda_model[c]:\n",
    "        if (score > 0.7):\n",
    "            topics.append(str(topic))\n",
    "    data.append([fileName, title, category, ','.join(topics)])\n",
    "\n",
    "df_topic = pd.DataFrame(data, columns=['file', 'title', 'category', 'topics'])\n",
    "df_topic.head()\n"
   ]
  },
  {
   "cell_type": "code",
   "execution_count": 35,
   "metadata": {},
   "outputs": [
    {
     "output_type": "stream",
     "name": "stdout",
     "text": [
      "## TOPIC: 0\nTECH\nTECH\nCOMPANY\nTECH\nTECH\nTECH\nMARKETING\nTECH\nCOMPANY\nTECH\nTECH\nTECH\nTECH\nTECH\nTECH\nTECH\nCOMPANY\nTECH\nTECH\nTECH\nTECH\nTECH\nTECH\nTECH\nTECH\nTECH\n\n## TOPIC: 1\nTECH\nMARKETING\nTECH\nTECH\nTECH\nTECH\nTECH\nMARKETING\nTECH\nMARKETING\nTECH\nTECH\nTECH\nTECH\nTECH\nTECH\n\n## TOPIC: 2\nCOMPANY\nTECH\nMARKETING\nTECH\nTECH\nTECH\nTECH\nTECH\nTECH\nTECH\nTECH\nMARKETING\n\n## TOPIC: 3\nTECH\nTECH\nMARKETING\nTECH\nTECH\nTECH\nCOMPANY\nTECH\nMARKETING\nTECH\nTECH\nMARKETING\nMARKETING\nCOMPANY\n\n"
     ]
    }
   ],
   "source": [
    "for i in range(lda_model.num_topics):\n",
    "        print('## TOPIC:', i)\n",
    "        print('\\n'.join(df_topic[df_topic['topics'].str.contains(str(i))]['category']))\n",
    "        print()"
   ]
  },
  {
   "cell_type": "code",
   "execution_count": 26,
   "metadata": {},
   "outputs": [
    {
     "output_type": "execute_result",
     "data": {
      "text/plain": [
       "                  file                                title topics\n",
       "4   ./work/raw/19.html     渋谷オフィスへの引越し前に認証を引っ越した話 Part2-実践編      3\n",
       "11  ./work/raw/55.html            FLYWHEEL アドベントカレンダーを支える技術      3\n",
       "14   ./work/raw/4.html  近未来のマーケティングを実現するパーソナライゼーション エンジンとは？      3\n",
       "16  ./work/raw/59.html                      FLYWHEEL って、なに？      3\n",
       "28  ./work/raw/25.html    社内Slackの絵文字事情を調査する  Part 3. 統計分析編      3\n",
       "34  ./work/raw/32.html     渋谷オフィスへの引越し前に認証を引っ越した話 Part1-導入編      3\n",
       "38  ./work/raw/12.html          急成長やリモートワーク化を支えるコミュニケーション設計      3\n",
       "41  ./work/raw/50.html    BtoB Startup における Product Manager      3\n",
       "43  ./work/raw/11.html               顧客体験のパーソナライズに必要な３つの仕掛け      3\n",
       "49  ./work/raw/30.html        とあるエンジニアがWFHしたときのとっても詳細な1日の流れ      3\n",
       "50  ./work/raw/67.html                       Data Wrangling      3\n",
       "51  ./work/raw/10.html                        DX・データ利活用の進め方      3\n",
       "61   ./work/raw/6.html  DX・データ活用の取り組み速度を上げるには？ – データ整備の視点から      3\n",
       "62  ./work/raw/16.html                  FLYWHEEL、3年目に入りました。      3"
      ],
      "text/html": "<div>\n<style scoped>\n    .dataframe tbody tr th:only-of-type {\n        vertical-align: middle;\n    }\n\n    .dataframe tbody tr th {\n        vertical-align: top;\n    }\n\n    .dataframe thead th {\n        text-align: right;\n    }\n</style>\n<table border=\"1\" class=\"dataframe\">\n  <thead>\n    <tr style=\"text-align: right;\">\n      <th></th>\n      <th>file</th>\n      <th>title</th>\n      <th>topics</th>\n    </tr>\n  </thead>\n  <tbody>\n    <tr>\n      <th>4</th>\n      <td>./work/raw/19.html</td>\n      <td>渋谷オフィスへの引越し前に認証を引っ越した話 Part2-実践編</td>\n      <td>3</td>\n    </tr>\n    <tr>\n      <th>11</th>\n      <td>./work/raw/55.html</td>\n      <td>FLYWHEEL アドベントカレンダーを支える技術</td>\n      <td>3</td>\n    </tr>\n    <tr>\n      <th>14</th>\n      <td>./work/raw/4.html</td>\n      <td>近未来のマーケティングを実現するパーソナライゼーション エンジンとは？</td>\n      <td>3</td>\n    </tr>\n    <tr>\n      <th>16</th>\n      <td>./work/raw/59.html</td>\n      <td>FLYWHEEL って、なに？</td>\n      <td>3</td>\n    </tr>\n    <tr>\n      <th>28</th>\n      <td>./work/raw/25.html</td>\n      <td>社内Slackの絵文字事情を調査する  Part 3. 統計分析編</td>\n      <td>3</td>\n    </tr>\n    <tr>\n      <th>34</th>\n      <td>./work/raw/32.html</td>\n      <td>渋谷オフィスへの引越し前に認証を引っ越した話 Part1-導入編</td>\n      <td>3</td>\n    </tr>\n    <tr>\n      <th>38</th>\n      <td>./work/raw/12.html</td>\n      <td>急成長やリモートワーク化を支えるコミュニケーション設計</td>\n      <td>3</td>\n    </tr>\n    <tr>\n      <th>41</th>\n      <td>./work/raw/50.html</td>\n      <td>BtoB Startup における Product Manager</td>\n      <td>3</td>\n    </tr>\n    <tr>\n      <th>43</th>\n      <td>./work/raw/11.html</td>\n      <td>顧客体験のパーソナライズに必要な３つの仕掛け</td>\n      <td>3</td>\n    </tr>\n    <tr>\n      <th>49</th>\n      <td>./work/raw/30.html</td>\n      <td>とあるエンジニアがWFHしたときのとっても詳細な1日の流れ</td>\n      <td>3</td>\n    </tr>\n    <tr>\n      <th>50</th>\n      <td>./work/raw/67.html</td>\n      <td>Data Wrangling</td>\n      <td>3</td>\n    </tr>\n    <tr>\n      <th>51</th>\n      <td>./work/raw/10.html</td>\n      <td>DX・データ利活用の進め方</td>\n      <td>3</td>\n    </tr>\n    <tr>\n      <th>61</th>\n      <td>./work/raw/6.html</td>\n      <td>DX・データ活用の取り組み速度を上げるには？ – データ整備の視点から</td>\n      <td>3</td>\n    </tr>\n    <tr>\n      <th>62</th>\n      <td>./work/raw/16.html</td>\n      <td>FLYWHEEL、3年目に入りました。</td>\n      <td>3</td>\n    </tr>\n  </tbody>\n</table>\n</div>"
     },
     "metadata": {},
     "execution_count": 26
    }
   ],
   "source": []
  },
  {
   "cell_type": "code",
   "execution_count": null,
   "metadata": {},
   "outputs": [],
   "source": []
  }
 ]
}