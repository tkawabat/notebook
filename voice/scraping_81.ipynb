{
 "metadata": {
  "language_info": {
   "codemirror_mode": {
    "name": "ipython",
    "version": 3
   },
   "file_extension": ".py",
   "mimetype": "text/x-python",
   "name": "python",
   "nbconvert_exporter": "python",
   "pygments_lexer": "ipython3",
   "version": "3.8.5-final"
  },
  "orig_nbformat": 2,
  "kernelspec": {
   "name": "python3",
   "display_name": "Python 3.8.5 64-bit ('voice')",
   "metadata": {
    "interpreter": {
     "hash": "666d496ceb7b2113aa74065e635a22f00576f769e32bfa390ab1b269df85c74d"
    }
   }
  }
 },
 "nbformat": 4,
 "nbformat_minor": 2,
 "cells": [
  {
   "cell_type": "code",
   "execution_count": 8,
   "metadata": {},
   "outputs": [],
   "source": [
    "import re\n",
    "import time\n",
    "from tqdm import tqdm\n",
    "import requests\n",
    "from bs4 import BeautifulSoup"
   ]
  },
  {
   "cell_type": "code",
   "execution_count": 3,
   "metadata": {},
   "outputs": [],
   "source": [
    "### GETリクエスト\n",
    "def getRequest(url):\n",
    "    time.sleep(1)\n",
    "    return requests.get(url)\n",
    "\n",
    "### MP3ダウンロード\n",
    "def getMp3File(url, saveFileName):\n",
    "    response = getRequest(url)\n",
    "    with open(saveFileName, 'wb') as saveFile:\n",
    "        saveFile.write(response.content)"
   ]
  },
  {
   "cell_type": "code",
   "execution_count": 4,
   "metadata": {},
   "outputs": [],
   "source": [
    "### 声優一覧ページから声優詳細URLリスト取得\n",
    "def getActorDetailUrls(url):\n",
    "    response = requests.get(url)\n",
    "    soup = BeautifulSoup(response.text, 'html.parser')\n",
    "    return [url.get('href') for url in soup.select('a[href*=\"name=\"]')]\n",
    "\n",
    "# test\n",
    "# url = 'https://www.81produce.co.jp/actor/men.html#men_list'\n",
    "# hoge = getActorDetailUrls(url)"
   ]
  },
  {
   "cell_type": "code",
   "execution_count": 12,
   "metadata": {},
   "outputs": [],
   "source": [
    "### 声優詳細ページからMP3 URLリスト取得\n",
    "def getMp3Urls(url):\n",
    "    response = getRequest(url)\n",
    "    soup = BeautifulSoup(response.text, 'html.parser')\n",
    "    name = soup.select_one('p.actor_name small').get_text().replace(' ', '')\n",
    "    urls = re.findall(r'\"//(.*mp3)\"', response.text)\n",
    "    return (name, urls)\n",
    "\n",
    "# test\n",
    "url = 'https://www.81produce.co.jp/actor_search/index.php/item?cell003=%E3%81%82%E8%A1%8C&cell029=%E7%94%B7%E6%80%A7&keyword=&cell028=&cell004=&name=%E7%8C%AA%E8%82%A1%E3%80%80%E9%80%9F%E5%8D%81&id=353&label=1' # 猪股さん\n",
    "(name, mp3Urls) = getMp3Urls(url)"
   ]
  },
  {
   "cell_type": "code",
   "execution_count": 16,
   "metadata": {},
   "outputs": [
    {
     "output_type": "stream",
     "name": "stdout",
     "text": [
      "https://www.81produce.co.jp/actor/men.html#men_list\n",
      "  0%|          | 0/135 [00:01<?, ?it/s]\n"
     ]
    },
    {
     "output_type": "error",
     "ename": "TypeError",
     "evalue": "can only concatenate str (not \"int\") to str",
     "traceback": [
      "\u001b[0;31m---------------------------------------------------------------------------\u001b[0m",
      "\u001b[0;31mTypeError\u001b[0m                                 Traceback (most recent call last)",
      "\u001b[0;32m<ipython-input-16-812ad6b5966d>\u001b[0m in \u001b[0;36m<module>\u001b[0;34m\u001b[0m\n\u001b[1;32m     10\u001b[0m     \u001b[0mn\u001b[0m \u001b[0;34m=\u001b[0m \u001b[0;36m1\u001b[0m\u001b[0;34m\u001b[0m\u001b[0;34m\u001b[0m\u001b[0m\n\u001b[1;32m     11\u001b[0m     \u001b[0;32mfor\u001b[0m \u001b[0mmp3Url\u001b[0m \u001b[0;32min\u001b[0m \u001b[0mmp3Urls\u001b[0m\u001b[0;34m:\u001b[0m\u001b[0;34m\u001b[0m\u001b[0;34m\u001b[0m\u001b[0m\n\u001b[0;32m---> 12\u001b[0;31m         \u001b[0mgetMp3File\u001b[0m\u001b[0;34m(\u001b[0m\u001b[0;34m'https://'\u001b[0m\u001b[0;34m+\u001b[0m\u001b[0mmp3Url\u001b[0m\u001b[0;34m,\u001b[0m \u001b[0msaveDir\u001b[0m\u001b[0;34m+\u001b[0m\u001b[0mname\u001b[0m\u001b[0;34m+\u001b[0m\u001b[0;34m'_'\u001b[0m\u001b[0;34m+\u001b[0m\u001b[0mn\u001b[0m\u001b[0;34m+\u001b[0m\u001b[0;34m'.mp3'\u001b[0m\u001b[0;34m)\u001b[0m\u001b[0;34m\u001b[0m\u001b[0;34m\u001b[0m\u001b[0m\n\u001b[0m\u001b[1;32m     13\u001b[0m         \u001b[0mn\u001b[0m \u001b[0;34m+=\u001b[0m \u001b[0;36m1\u001b[0m\u001b[0;34m\u001b[0m\u001b[0;34m\u001b[0m\u001b[0m\n",
      "\u001b[0;31mTypeError\u001b[0m: can only concatenate str (not \"int\") to str"
     ]
    }
   ],
   "source": [
    "### メインループ\n",
    "\n",
    "# listUrl = 'https://www.81produce.co.jp/actor/woman.html#women_list'\n",
    "# saveDir = 'work/81/women/'\n",
    "listUrl = 'https://www.81produce.co.jp/actor/men.html#men_list'\n",
    "saveDir = 'work/81/men/'\n",
    "\n",
    "print(listUrl)\n",
    "detailUrls = getActorDetailUrls(listUrl)\n",
    "for detailUrl in tqdm(detailUrls):\n",
    "    (name, mp3Urls) = getMp3Urls(detailUrl)\n",
    "    n = 1\n",
    "    for mp3Url in mp3Urls:\n",
    "        getMp3File('https://'+mp3Url, saveDir+name+'_'+str(n)+'.mp3')\n",
    "        n += 1"
   ]
  },
  {
   "cell_type": "code",
   "execution_count": null,
   "metadata": {},
   "outputs": [],
   "source": []
  }
 ]
}